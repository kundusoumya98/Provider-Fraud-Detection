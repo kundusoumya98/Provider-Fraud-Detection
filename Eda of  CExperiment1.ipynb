{
 "cells": [
  {
   "cell_type": "code",
   "execution_count": null,
   "metadata": {
    "id": "Vouw5vZAynXt"
   },
   "outputs": [],
   "source": [
    "### import packages\n",
    "import pandas as pd\n",
    "import numpy as np\n",
    "import matplotlib.pyplot as plt\n",
    "from sklearn import preprocessing\n",
    "from datetime import datetime\n",
    "import seaborn as sns\n",
    "\n",
    "from sklearn.model_selection import train_test_split, ShuffleSplit, learning_curve, GridSearchCV, KFold\n",
    "from sklearn.linear_model import LogisticRegression, Perceptron\n",
    "from sklearn.metrics import roc_curve, accuracy_score, confusion_matrix, classification_report, roc_auc_score, make_scorer, precision_recall_curve, average_precision_score \n",
    "from sklearn.svm import SVC\n",
    "from sklearn.preprocessing import StandardScaler\n",
    "from sklearn import metrics\n",
    "#from sklearn.ensemble import RandomForestClassifier, IslationForest, VotingClassifier\n",
    "from sklearn.metrics import accuracy_score\n",
    "from sklearn.model_selection import cross_val_score\n",
    "from collections import Counter\n",
    "from sklearn.metrics import accuracy_score\n",
    "from sklearn import model_selection\n",
    "from sklearn.metrics import roc_auc_score\n",
    "import matplotlib.pyplot as plt\n",
    "from prettytable import PrettyTable\n",
    "from sklearn.model_selection import train_test_split\n",
    "from sklearn.linear_model import LogisticRegression\n",
    "%matplotlib inline\n",
    "from sklearn.metrics import roc_curve, auc , f1_score\n",
    "from sklearn.metrics import confusion_matrix\n",
    "plt.style.use('ggplot')"
   ]
  },
  {
   "cell_type": "code",
   "execution_count": null,
   "metadata": {
    "colab": {
     "base_uri": "https://localhost:8080/"
    },
    "executionInfo": {
     "elapsed": 23925,
     "status": "ok",
     "timestamp": 1621421320471,
     "user": {
      "displayName": "SAYAN KUNDU",
      "photoUrl": "",
      "userId": "02417134633143582297"
     },
     "user_tz": -330
    },
    "id": "9Jw5hV_509fS",
    "outputId": "56c6b215-e3f4-4e94-f64f-a95b14a7e08b"
   },
   "outputs": [
    {
     "name": "stdout",
     "output_type": "stream",
     "text": [
      "Mounted at /content/drive\n"
     ]
    }
   ],
   "source": [
    "from google.colab import drive\n",
    "drive.mount('/content/drive')"
   ]
  },
  {
   "cell_type": "code",
   "execution_count": null,
   "metadata": {
    "id": "-P4IdVF5ynX3"
   },
   "outputs": [],
   "source": [
    "target = pd.read_csv(\"drive/MyDrive/self/Train-1542865627584.csv\")\n",
    "beneficiary = pd.read_csv(\"drive/MyDrive/self/Train_Beneficiarydata-1542865627584.csv\")\n",
    "in_pt = pd.read_csv(\"drive/MyDrive/self/Train_Inpatientdata-1542865627584.csv\")\n",
    "out_pt = pd.read_csv(\"drive/MyDrive/self/Train_Outpatientdata-1542865627584.csv\")\n",
    " "
   ]
  },
  {
   "cell_type": "code",
   "execution_count": null,
   "metadata": {
    "colab": {
     "base_uri": "https://localhost:8080/",
     "height": 224
    },
    "executionInfo": {
     "elapsed": 8794,
     "status": "ok",
     "timestamp": 1621421327725,
     "user": {
      "displayName": "SAYAN KUNDU",
      "photoUrl": "",
      "userId": "02417134633143582297"
     },
     "user_tz": -330
    },
    "id": "VvNPOKXYynX6",
    "outputId": "be68e824-902a-4bc7-ce62-785bff3cfbf7"
   },
   "outputs": [
    {
     "data": {
      "text/html": [
       "<div>\n",
       "<style scoped>\n",
       "    .dataframe tbody tr th:only-of-type {\n",
       "        vertical-align: middle;\n",
       "    }\n",
       "\n",
       "    .dataframe tbody tr th {\n",
       "        vertical-align: top;\n",
       "    }\n",
       "\n",
       "    .dataframe thead th {\n",
       "        text-align: right;\n",
       "    }\n",
       "</style>\n",
       "<table border=\"1\" class=\"dataframe\">\n",
       "  <thead>\n",
       "    <tr style=\"text-align: right;\">\n",
       "      <th></th>\n",
       "      <th>BeneID</th>\n",
       "      <th>ClaimID</th>\n",
       "      <th>ClaimStartDt</th>\n",
       "      <th>ClaimEndDt</th>\n",
       "      <th>Provider</th>\n",
       "      <th>InscClaimAmtReimbursed</th>\n",
       "      <th>AttendingPhysician</th>\n",
       "      <th>OperatingPhysician</th>\n",
       "      <th>OtherPhysician</th>\n",
       "      <th>AdmissionDt</th>\n",
       "      <th>ClmAdmitDiagnosisCode</th>\n",
       "      <th>DeductibleAmtPaid</th>\n",
       "      <th>DischargeDt</th>\n",
       "      <th>DiagnosisGroupCode</th>\n",
       "      <th>ClmDiagnosisCode_1</th>\n",
       "      <th>ClmDiagnosisCode_2</th>\n",
       "      <th>ClmDiagnosisCode_3</th>\n",
       "      <th>ClmDiagnosisCode_4</th>\n",
       "      <th>ClmDiagnosisCode_5</th>\n",
       "      <th>ClmDiagnosisCode_6</th>\n",
       "      <th>ClmDiagnosisCode_7</th>\n",
       "      <th>ClmDiagnosisCode_8</th>\n",
       "      <th>ClmDiagnosisCode_9</th>\n",
       "      <th>ClmDiagnosisCode_10</th>\n",
       "      <th>ClmProcedureCode_1</th>\n",
       "      <th>ClmProcedureCode_2</th>\n",
       "      <th>ClmProcedureCode_3</th>\n",
       "      <th>ClmProcedureCode_4</th>\n",
       "      <th>ClmProcedureCode_5</th>\n",
       "      <th>ClmProcedureCode_6</th>\n",
       "    </tr>\n",
       "  </thead>\n",
       "  <tbody>\n",
       "    <tr>\n",
       "      <th>0</th>\n",
       "      <td>BENE11001</td>\n",
       "      <td>CLM46614</td>\n",
       "      <td>2009-04-12</td>\n",
       "      <td>2009-04-18</td>\n",
       "      <td>PRV55912</td>\n",
       "      <td>26000</td>\n",
       "      <td>PHY390922</td>\n",
       "      <td>NaN</td>\n",
       "      <td>NaN</td>\n",
       "      <td>2009-04-12</td>\n",
       "      <td>7866</td>\n",
       "      <td>1068.0</td>\n",
       "      <td>2009-04-18</td>\n",
       "      <td>201</td>\n",
       "      <td>1970</td>\n",
       "      <td>4019</td>\n",
       "      <td>5853</td>\n",
       "      <td>7843</td>\n",
       "      <td>2768</td>\n",
       "      <td>71590</td>\n",
       "      <td>2724</td>\n",
       "      <td>19889</td>\n",
       "      <td>5849</td>\n",
       "      <td>NaN</td>\n",
       "      <td>NaN</td>\n",
       "      <td>NaN</td>\n",
       "      <td>NaN</td>\n",
       "      <td>NaN</td>\n",
       "      <td>NaN</td>\n",
       "      <td>NaN</td>\n",
       "    </tr>\n",
       "    <tr>\n",
       "      <th>1</th>\n",
       "      <td>BENE11001</td>\n",
       "      <td>CLM66048</td>\n",
       "      <td>2009-08-31</td>\n",
       "      <td>2009-09-02</td>\n",
       "      <td>PRV55907</td>\n",
       "      <td>5000</td>\n",
       "      <td>PHY318495</td>\n",
       "      <td>PHY318495</td>\n",
       "      <td>NaN</td>\n",
       "      <td>2009-08-31</td>\n",
       "      <td>6186</td>\n",
       "      <td>1068.0</td>\n",
       "      <td>2009-09-02</td>\n",
       "      <td>750</td>\n",
       "      <td>6186</td>\n",
       "      <td>2948</td>\n",
       "      <td>56400</td>\n",
       "      <td>NaN</td>\n",
       "      <td>NaN</td>\n",
       "      <td>NaN</td>\n",
       "      <td>NaN</td>\n",
       "      <td>NaN</td>\n",
       "      <td>NaN</td>\n",
       "      <td>NaN</td>\n",
       "      <td>7092.0</td>\n",
       "      <td>NaN</td>\n",
       "      <td>NaN</td>\n",
       "      <td>NaN</td>\n",
       "      <td>NaN</td>\n",
       "      <td>NaN</td>\n",
       "    </tr>\n",
       "    <tr>\n",
       "      <th>2</th>\n",
       "      <td>BENE11001</td>\n",
       "      <td>CLM68358</td>\n",
       "      <td>2009-09-17</td>\n",
       "      <td>2009-09-20</td>\n",
       "      <td>PRV56046</td>\n",
       "      <td>5000</td>\n",
       "      <td>PHY372395</td>\n",
       "      <td>NaN</td>\n",
       "      <td>PHY324689</td>\n",
       "      <td>2009-09-17</td>\n",
       "      <td>29590</td>\n",
       "      <td>1068.0</td>\n",
       "      <td>2009-09-20</td>\n",
       "      <td>883</td>\n",
       "      <td>29623</td>\n",
       "      <td>30390</td>\n",
       "      <td>71690</td>\n",
       "      <td>34590</td>\n",
       "      <td>V1581</td>\n",
       "      <td>32723</td>\n",
       "      <td>NaN</td>\n",
       "      <td>NaN</td>\n",
       "      <td>NaN</td>\n",
       "      <td>NaN</td>\n",
       "      <td>NaN</td>\n",
       "      <td>NaN</td>\n",
       "      <td>NaN</td>\n",
       "      <td>NaN</td>\n",
       "      <td>NaN</td>\n",
       "      <td>NaN</td>\n",
       "    </tr>\n",
       "    <tr>\n",
       "      <th>3</th>\n",
       "      <td>BENE11011</td>\n",
       "      <td>CLM38412</td>\n",
       "      <td>2009-02-14</td>\n",
       "      <td>2009-02-22</td>\n",
       "      <td>PRV52405</td>\n",
       "      <td>5000</td>\n",
       "      <td>PHY369659</td>\n",
       "      <td>PHY392961</td>\n",
       "      <td>PHY349768</td>\n",
       "      <td>2009-02-14</td>\n",
       "      <td>431</td>\n",
       "      <td>1068.0</td>\n",
       "      <td>2009-02-22</td>\n",
       "      <td>067</td>\n",
       "      <td>43491</td>\n",
       "      <td>2762</td>\n",
       "      <td>7843</td>\n",
       "      <td>32723</td>\n",
       "      <td>V1041</td>\n",
       "      <td>4254</td>\n",
       "      <td>25062</td>\n",
       "      <td>40390</td>\n",
       "      <td>4019</td>\n",
       "      <td>NaN</td>\n",
       "      <td>331.0</td>\n",
       "      <td>NaN</td>\n",
       "      <td>NaN</td>\n",
       "      <td>NaN</td>\n",
       "      <td>NaN</td>\n",
       "      <td>NaN</td>\n",
       "    </tr>\n",
       "    <tr>\n",
       "      <th>4</th>\n",
       "      <td>BENE11014</td>\n",
       "      <td>CLM63689</td>\n",
       "      <td>2009-08-13</td>\n",
       "      <td>2009-08-30</td>\n",
       "      <td>PRV56614</td>\n",
       "      <td>10000</td>\n",
       "      <td>PHY379376</td>\n",
       "      <td>PHY398258</td>\n",
       "      <td>NaN</td>\n",
       "      <td>2009-08-13</td>\n",
       "      <td>78321</td>\n",
       "      <td>1068.0</td>\n",
       "      <td>2009-08-30</td>\n",
       "      <td>975</td>\n",
       "      <td>042</td>\n",
       "      <td>3051</td>\n",
       "      <td>34400</td>\n",
       "      <td>5856</td>\n",
       "      <td>42732</td>\n",
       "      <td>486</td>\n",
       "      <td>5119</td>\n",
       "      <td>29620</td>\n",
       "      <td>20300</td>\n",
       "      <td>NaN</td>\n",
       "      <td>3893.0</td>\n",
       "      <td>NaN</td>\n",
       "      <td>NaN</td>\n",
       "      <td>NaN</td>\n",
       "      <td>NaN</td>\n",
       "      <td>NaN</td>\n",
       "    </tr>\n",
       "  </tbody>\n",
       "</table>\n",
       "</div>"
      ],
      "text/plain": [
       "      BeneID   ClaimID  ... ClmProcedureCode_5 ClmProcedureCode_6\n",
       "0  BENE11001  CLM46614  ...                NaN                NaN\n",
       "1  BENE11001  CLM66048  ...                NaN                NaN\n",
       "2  BENE11001  CLM68358  ...                NaN                NaN\n",
       "3  BENE11011  CLM38412  ...                NaN                NaN\n",
       "4  BENE11014  CLM63689  ...                NaN                NaN\n",
       "\n",
       "[5 rows x 30 columns]"
      ]
     },
     "execution_count": 5,
     "metadata": {
      "tags": []
     },
     "output_type": "execute_result"
    }
   ],
   "source": [
    "in_pt.head()"
   ]
  },
  {
   "cell_type": "code",
   "execution_count": null,
   "metadata": {
    "colab": {
     "base_uri": "https://localhost:8080/",
     "height": 224
    },
    "executionInfo": {
     "elapsed": 6237,
     "status": "ok",
     "timestamp": 1621421327726,
     "user": {
      "displayName": "SAYAN KUNDU",
      "photoUrl": "",
      "userId": "02417134633143582297"
     },
     "user_tz": -330
    },
    "id": "CQ5t3vW0ynX-",
    "outputId": "919de6a8-7dbb-4a4f-d992-b028b85e7f12"
   },
   "outputs": [
    {
     "data": {
      "text/html": [
       "<div>\n",
       "<style scoped>\n",
       "    .dataframe tbody tr th:only-of-type {\n",
       "        vertical-align: middle;\n",
       "    }\n",
       "\n",
       "    .dataframe tbody tr th {\n",
       "        vertical-align: top;\n",
       "    }\n",
       "\n",
       "    .dataframe thead th {\n",
       "        text-align: right;\n",
       "    }\n",
       "</style>\n",
       "<table border=\"1\" class=\"dataframe\">\n",
       "  <thead>\n",
       "    <tr style=\"text-align: right;\">\n",
       "      <th></th>\n",
       "      <th>BeneID</th>\n",
       "      <th>ClaimID</th>\n",
       "      <th>ClaimStartDt</th>\n",
       "      <th>ClaimEndDt</th>\n",
       "      <th>Provider</th>\n",
       "      <th>InscClaimAmtReimbursed</th>\n",
       "      <th>AttendingPhysician</th>\n",
       "      <th>OperatingPhysician</th>\n",
       "      <th>OtherPhysician</th>\n",
       "      <th>ClmDiagnosisCode_1</th>\n",
       "      <th>ClmDiagnosisCode_2</th>\n",
       "      <th>ClmDiagnosisCode_3</th>\n",
       "      <th>ClmDiagnosisCode_4</th>\n",
       "      <th>ClmDiagnosisCode_5</th>\n",
       "      <th>ClmDiagnosisCode_6</th>\n",
       "      <th>ClmDiagnosisCode_7</th>\n",
       "      <th>ClmDiagnosisCode_8</th>\n",
       "      <th>ClmDiagnosisCode_9</th>\n",
       "      <th>ClmDiagnosisCode_10</th>\n",
       "      <th>ClmProcedureCode_1</th>\n",
       "      <th>ClmProcedureCode_2</th>\n",
       "      <th>ClmProcedureCode_3</th>\n",
       "      <th>ClmProcedureCode_4</th>\n",
       "      <th>ClmProcedureCode_5</th>\n",
       "      <th>ClmProcedureCode_6</th>\n",
       "      <th>DeductibleAmtPaid</th>\n",
       "      <th>ClmAdmitDiagnosisCode</th>\n",
       "    </tr>\n",
       "  </thead>\n",
       "  <tbody>\n",
       "    <tr>\n",
       "      <th>0</th>\n",
       "      <td>BENE11002</td>\n",
       "      <td>CLM624349</td>\n",
       "      <td>2009-10-11</td>\n",
       "      <td>2009-10-11</td>\n",
       "      <td>PRV56011</td>\n",
       "      <td>30</td>\n",
       "      <td>PHY326117</td>\n",
       "      <td>NaN</td>\n",
       "      <td>NaN</td>\n",
       "      <td>78943</td>\n",
       "      <td>V5866</td>\n",
       "      <td>V1272</td>\n",
       "      <td>NaN</td>\n",
       "      <td>NaN</td>\n",
       "      <td>NaN</td>\n",
       "      <td>NaN</td>\n",
       "      <td>NaN</td>\n",
       "      <td>NaN</td>\n",
       "      <td>NaN</td>\n",
       "      <td>NaN</td>\n",
       "      <td>NaN</td>\n",
       "      <td>NaN</td>\n",
       "      <td>NaN</td>\n",
       "      <td>NaN</td>\n",
       "      <td>NaN</td>\n",
       "      <td>0</td>\n",
       "      <td>56409</td>\n",
       "    </tr>\n",
       "    <tr>\n",
       "      <th>1</th>\n",
       "      <td>BENE11003</td>\n",
       "      <td>CLM189947</td>\n",
       "      <td>2009-02-12</td>\n",
       "      <td>2009-02-12</td>\n",
       "      <td>PRV57610</td>\n",
       "      <td>80</td>\n",
       "      <td>PHY362868</td>\n",
       "      <td>NaN</td>\n",
       "      <td>NaN</td>\n",
       "      <td>6115</td>\n",
       "      <td>NaN</td>\n",
       "      <td>NaN</td>\n",
       "      <td>NaN</td>\n",
       "      <td>NaN</td>\n",
       "      <td>NaN</td>\n",
       "      <td>NaN</td>\n",
       "      <td>NaN</td>\n",
       "      <td>NaN</td>\n",
       "      <td>NaN</td>\n",
       "      <td>NaN</td>\n",
       "      <td>NaN</td>\n",
       "      <td>NaN</td>\n",
       "      <td>NaN</td>\n",
       "      <td>NaN</td>\n",
       "      <td>NaN</td>\n",
       "      <td>0</td>\n",
       "      <td>79380</td>\n",
       "    </tr>\n",
       "    <tr>\n",
       "      <th>2</th>\n",
       "      <td>BENE11003</td>\n",
       "      <td>CLM438021</td>\n",
       "      <td>2009-06-27</td>\n",
       "      <td>2009-06-27</td>\n",
       "      <td>PRV57595</td>\n",
       "      <td>10</td>\n",
       "      <td>PHY328821</td>\n",
       "      <td>NaN</td>\n",
       "      <td>NaN</td>\n",
       "      <td>2723</td>\n",
       "      <td>NaN</td>\n",
       "      <td>NaN</td>\n",
       "      <td>NaN</td>\n",
       "      <td>NaN</td>\n",
       "      <td>NaN</td>\n",
       "      <td>NaN</td>\n",
       "      <td>NaN</td>\n",
       "      <td>NaN</td>\n",
       "      <td>NaN</td>\n",
       "      <td>NaN</td>\n",
       "      <td>NaN</td>\n",
       "      <td>NaN</td>\n",
       "      <td>NaN</td>\n",
       "      <td>NaN</td>\n",
       "      <td>NaN</td>\n",
       "      <td>0</td>\n",
       "      <td>NaN</td>\n",
       "    </tr>\n",
       "    <tr>\n",
       "      <th>3</th>\n",
       "      <td>BENE11004</td>\n",
       "      <td>CLM121801</td>\n",
       "      <td>2009-01-06</td>\n",
       "      <td>2009-01-06</td>\n",
       "      <td>PRV56011</td>\n",
       "      <td>40</td>\n",
       "      <td>PHY334319</td>\n",
       "      <td>NaN</td>\n",
       "      <td>NaN</td>\n",
       "      <td>71988</td>\n",
       "      <td>NaN</td>\n",
       "      <td>NaN</td>\n",
       "      <td>NaN</td>\n",
       "      <td>NaN</td>\n",
       "      <td>NaN</td>\n",
       "      <td>NaN</td>\n",
       "      <td>NaN</td>\n",
       "      <td>NaN</td>\n",
       "      <td>NaN</td>\n",
       "      <td>NaN</td>\n",
       "      <td>NaN</td>\n",
       "      <td>NaN</td>\n",
       "      <td>NaN</td>\n",
       "      <td>NaN</td>\n",
       "      <td>NaN</td>\n",
       "      <td>0</td>\n",
       "      <td>NaN</td>\n",
       "    </tr>\n",
       "    <tr>\n",
       "      <th>4</th>\n",
       "      <td>BENE11004</td>\n",
       "      <td>CLM150998</td>\n",
       "      <td>2009-01-22</td>\n",
       "      <td>2009-01-22</td>\n",
       "      <td>PRV56011</td>\n",
       "      <td>200</td>\n",
       "      <td>PHY403831</td>\n",
       "      <td>NaN</td>\n",
       "      <td>NaN</td>\n",
       "      <td>82382</td>\n",
       "      <td>30000</td>\n",
       "      <td>72887</td>\n",
       "      <td>4280</td>\n",
       "      <td>7197</td>\n",
       "      <td>V4577</td>\n",
       "      <td>NaN</td>\n",
       "      <td>NaN</td>\n",
       "      <td>NaN</td>\n",
       "      <td>NaN</td>\n",
       "      <td>NaN</td>\n",
       "      <td>NaN</td>\n",
       "      <td>NaN</td>\n",
       "      <td>NaN</td>\n",
       "      <td>NaN</td>\n",
       "      <td>NaN</td>\n",
       "      <td>0</td>\n",
       "      <td>71947</td>\n",
       "    </tr>\n",
       "  </tbody>\n",
       "</table>\n",
       "</div>"
      ],
      "text/plain": [
       "      BeneID    ClaimID  ... DeductibleAmtPaid ClmAdmitDiagnosisCode\n",
       "0  BENE11002  CLM624349  ...                 0                 56409\n",
       "1  BENE11003  CLM189947  ...                 0                 79380\n",
       "2  BENE11003  CLM438021  ...                 0                   NaN\n",
       "3  BENE11004  CLM121801  ...                 0                   NaN\n",
       "4  BENE11004  CLM150998  ...                 0                 71947\n",
       "\n",
       "[5 rows x 27 columns]"
      ]
     },
     "execution_count": 6,
     "metadata": {
      "tags": []
     },
     "output_type": "execute_result"
    }
   ],
   "source": [
    "out_pt.head()"
   ]
  },
  {
   "cell_type": "code",
   "execution_count": null,
   "metadata": {
    "colab": {
     "base_uri": "https://localhost:8080/",
     "height": 309
    },
    "executionInfo": {
     "elapsed": 5151,
     "status": "ok",
     "timestamp": 1621421327728,
     "user": {
      "displayName": "SAYAN KUNDU",
      "photoUrl": "",
      "userId": "02417134633143582297"
     },
     "user_tz": -330
    },
    "id": "_4_1HZzWynX_",
    "outputId": "f83e29eb-96e2-4c03-b027-d08644f2fd04"
   },
   "outputs": [
    {
     "data": {
      "text/html": [
       "<div>\n",
       "<style scoped>\n",
       "    .dataframe tbody tr th:only-of-type {\n",
       "        vertical-align: middle;\n",
       "    }\n",
       "\n",
       "    .dataframe tbody tr th {\n",
       "        vertical-align: top;\n",
       "    }\n",
       "\n",
       "    .dataframe thead th {\n",
       "        text-align: right;\n",
       "    }\n",
       "</style>\n",
       "<table border=\"1\" class=\"dataframe\">\n",
       "  <thead>\n",
       "    <tr style=\"text-align: right;\">\n",
       "      <th></th>\n",
       "      <th>BeneID</th>\n",
       "      <th>DOB</th>\n",
       "      <th>DOD</th>\n",
       "      <th>Gender</th>\n",
       "      <th>Race</th>\n",
       "      <th>RenalDiseaseIndicator</th>\n",
       "      <th>State</th>\n",
       "      <th>County</th>\n",
       "      <th>NoOfMonths_PartACov</th>\n",
       "      <th>NoOfMonths_PartBCov</th>\n",
       "      <th>ChronicCond_Alzheimer</th>\n",
       "      <th>ChronicCond_Heartfailure</th>\n",
       "      <th>ChronicCond_KidneyDisease</th>\n",
       "      <th>ChronicCond_Cancer</th>\n",
       "      <th>ChronicCond_ObstrPulmonary</th>\n",
       "      <th>ChronicCond_Depression</th>\n",
       "      <th>ChronicCond_Diabetes</th>\n",
       "      <th>ChronicCond_IschemicHeart</th>\n",
       "      <th>ChronicCond_Osteoporasis</th>\n",
       "      <th>ChronicCond_rheumatoidarthritis</th>\n",
       "      <th>ChronicCond_stroke</th>\n",
       "      <th>IPAnnualReimbursementAmt</th>\n",
       "      <th>IPAnnualDeductibleAmt</th>\n",
       "      <th>OPAnnualReimbursementAmt</th>\n",
       "      <th>OPAnnualDeductibleAmt</th>\n",
       "    </tr>\n",
       "  </thead>\n",
       "  <tbody>\n",
       "    <tr>\n",
       "      <th>0</th>\n",
       "      <td>BENE11001</td>\n",
       "      <td>1943-01-01</td>\n",
       "      <td>NaN</td>\n",
       "      <td>1</td>\n",
       "      <td>1</td>\n",
       "      <td>0</td>\n",
       "      <td>39</td>\n",
       "      <td>230</td>\n",
       "      <td>12</td>\n",
       "      <td>12</td>\n",
       "      <td>1</td>\n",
       "      <td>2</td>\n",
       "      <td>1</td>\n",
       "      <td>2</td>\n",
       "      <td>2</td>\n",
       "      <td>1</td>\n",
       "      <td>1</td>\n",
       "      <td>1</td>\n",
       "      <td>2</td>\n",
       "      <td>1</td>\n",
       "      <td>1</td>\n",
       "      <td>36000</td>\n",
       "      <td>3204</td>\n",
       "      <td>60</td>\n",
       "      <td>70</td>\n",
       "    </tr>\n",
       "    <tr>\n",
       "      <th>1</th>\n",
       "      <td>BENE11002</td>\n",
       "      <td>1936-09-01</td>\n",
       "      <td>NaN</td>\n",
       "      <td>2</td>\n",
       "      <td>1</td>\n",
       "      <td>0</td>\n",
       "      <td>39</td>\n",
       "      <td>280</td>\n",
       "      <td>12</td>\n",
       "      <td>12</td>\n",
       "      <td>2</td>\n",
       "      <td>2</td>\n",
       "      <td>2</td>\n",
       "      <td>2</td>\n",
       "      <td>2</td>\n",
       "      <td>2</td>\n",
       "      <td>2</td>\n",
       "      <td>2</td>\n",
       "      <td>2</td>\n",
       "      <td>2</td>\n",
       "      <td>2</td>\n",
       "      <td>0</td>\n",
       "      <td>0</td>\n",
       "      <td>30</td>\n",
       "      <td>50</td>\n",
       "    </tr>\n",
       "    <tr>\n",
       "      <th>2</th>\n",
       "      <td>BENE11003</td>\n",
       "      <td>1936-08-01</td>\n",
       "      <td>NaN</td>\n",
       "      <td>1</td>\n",
       "      <td>1</td>\n",
       "      <td>0</td>\n",
       "      <td>52</td>\n",
       "      <td>590</td>\n",
       "      <td>12</td>\n",
       "      <td>12</td>\n",
       "      <td>1</td>\n",
       "      <td>2</td>\n",
       "      <td>2</td>\n",
       "      <td>2</td>\n",
       "      <td>2</td>\n",
       "      <td>2</td>\n",
       "      <td>2</td>\n",
       "      <td>1</td>\n",
       "      <td>2</td>\n",
       "      <td>2</td>\n",
       "      <td>2</td>\n",
       "      <td>0</td>\n",
       "      <td>0</td>\n",
       "      <td>90</td>\n",
       "      <td>40</td>\n",
       "    </tr>\n",
       "    <tr>\n",
       "      <th>3</th>\n",
       "      <td>BENE11004</td>\n",
       "      <td>1922-07-01</td>\n",
       "      <td>NaN</td>\n",
       "      <td>1</td>\n",
       "      <td>1</td>\n",
       "      <td>0</td>\n",
       "      <td>39</td>\n",
       "      <td>270</td>\n",
       "      <td>12</td>\n",
       "      <td>12</td>\n",
       "      <td>1</td>\n",
       "      <td>1</td>\n",
       "      <td>2</td>\n",
       "      <td>2</td>\n",
       "      <td>2</td>\n",
       "      <td>2</td>\n",
       "      <td>1</td>\n",
       "      <td>1</td>\n",
       "      <td>1</td>\n",
       "      <td>1</td>\n",
       "      <td>2</td>\n",
       "      <td>0</td>\n",
       "      <td>0</td>\n",
       "      <td>1810</td>\n",
       "      <td>760</td>\n",
       "    </tr>\n",
       "    <tr>\n",
       "      <th>4</th>\n",
       "      <td>BENE11005</td>\n",
       "      <td>1935-09-01</td>\n",
       "      <td>NaN</td>\n",
       "      <td>1</td>\n",
       "      <td>1</td>\n",
       "      <td>0</td>\n",
       "      <td>24</td>\n",
       "      <td>680</td>\n",
       "      <td>12</td>\n",
       "      <td>12</td>\n",
       "      <td>2</td>\n",
       "      <td>2</td>\n",
       "      <td>2</td>\n",
       "      <td>2</td>\n",
       "      <td>1</td>\n",
       "      <td>2</td>\n",
       "      <td>1</td>\n",
       "      <td>2</td>\n",
       "      <td>2</td>\n",
       "      <td>2</td>\n",
       "      <td>2</td>\n",
       "      <td>0</td>\n",
       "      <td>0</td>\n",
       "      <td>1790</td>\n",
       "      <td>1200</td>\n",
       "    </tr>\n",
       "  </tbody>\n",
       "</table>\n",
       "</div>"
      ],
      "text/plain": [
       "      BeneID         DOB  ... OPAnnualReimbursementAmt  OPAnnualDeductibleAmt\n",
       "0  BENE11001  1943-01-01  ...                       60                     70\n",
       "1  BENE11002  1936-09-01  ...                       30                     50\n",
       "2  BENE11003  1936-08-01  ...                       90                     40\n",
       "3  BENE11004  1922-07-01  ...                     1810                    760\n",
       "4  BENE11005  1935-09-01  ...                     1790                   1200\n",
       "\n",
       "[5 rows x 25 columns]"
      ]
     },
     "execution_count": 7,
     "metadata": {
      "tags": []
     },
     "output_type": "execute_result"
    }
   ],
   "source": [
    "beneficiary.head()"
   ]
  },
  {
   "cell_type": "code",
   "execution_count": null,
   "metadata": {
    "colab": {
     "base_uri": "https://localhost:8080/"
    },
    "executionInfo": {
     "elapsed": 1228,
     "status": "ok",
     "timestamp": 1621421327729,
     "user": {
      "displayName": "SAYAN KUNDU",
      "photoUrl": "",
      "userId": "02417134633143582297"
     },
     "user_tz": -330
    },
    "id": "oQ0sy0CVynYC",
    "outputId": "089779ac-7c36-45be-88ef-53aa9e102c72"
   },
   "outputs": [
    {
     "data": {
      "text/plain": [
       "(5410, 2)"
      ]
     },
     "execution_count": 8,
     "metadata": {
      "tags": []
     },
     "output_type": "execute_result"
    }
   ],
   "source": [
    "target.shape"
   ]
  },
  {
   "cell_type": "markdown",
   "metadata": {
    "id": "0gej0LDZynYD"
   },
   "source": [
    "# Explotery data analysis"
   ]
  },
  {
   "cell_type": "code",
   "execution_count": null,
   "metadata": {
    "colab": {
     "base_uri": "https://localhost:8080/",
     "height": 309
    },
    "executionInfo": {
     "elapsed": 1459,
     "status": "ok",
     "timestamp": 1621421334850,
     "user": {
      "displayName": "SAYAN KUNDU",
      "photoUrl": "",
      "userId": "02417134633143582297"
     },
     "user_tz": -330
    },
    "id": "vbqPNs0qynYE",
    "outputId": "9c8407e7-209d-4344-a868-2de0ea2c8f0f"
   },
   "outputs": [
    {
     "data": {
      "text/html": [
       "<div>\n",
       "<style scoped>\n",
       "    .dataframe tbody tr th:only-of-type {\n",
       "        vertical-align: middle;\n",
       "    }\n",
       "\n",
       "    .dataframe tbody tr th {\n",
       "        vertical-align: top;\n",
       "    }\n",
       "\n",
       "    .dataframe thead th {\n",
       "        text-align: right;\n",
       "    }\n",
       "</style>\n",
       "<table border=\"1\" class=\"dataframe\">\n",
       "  <thead>\n",
       "    <tr style=\"text-align: right;\">\n",
       "      <th></th>\n",
       "      <th>BeneID</th>\n",
       "      <th>DOB</th>\n",
       "      <th>DOD</th>\n",
       "      <th>Gender</th>\n",
       "      <th>Race</th>\n",
       "      <th>RenalDiseaseIndicator</th>\n",
       "      <th>State</th>\n",
       "      <th>County</th>\n",
       "      <th>NoOfMonths_PartACov</th>\n",
       "      <th>NoOfMonths_PartBCov</th>\n",
       "      <th>ChronicCond_Alzheimer</th>\n",
       "      <th>ChronicCond_Heartfailure</th>\n",
       "      <th>ChronicCond_KidneyDisease</th>\n",
       "      <th>ChronicCond_Cancer</th>\n",
       "      <th>ChronicCond_ObstrPulmonary</th>\n",
       "      <th>ChronicCond_Depression</th>\n",
       "      <th>ChronicCond_Diabetes</th>\n",
       "      <th>ChronicCond_IschemicHeart</th>\n",
       "      <th>ChronicCond_Osteoporasis</th>\n",
       "      <th>ChronicCond_rheumatoidarthritis</th>\n",
       "      <th>ChronicCond_stroke</th>\n",
       "      <th>IPAnnualReimbursementAmt</th>\n",
       "      <th>IPAnnualDeductibleAmt</th>\n",
       "      <th>OPAnnualReimbursementAmt</th>\n",
       "      <th>OPAnnualDeductibleAmt</th>\n",
       "    </tr>\n",
       "  </thead>\n",
       "  <tbody>\n",
       "    <tr>\n",
       "      <th>0</th>\n",
       "      <td>BENE11001</td>\n",
       "      <td>1943-01-01</td>\n",
       "      <td>NaN</td>\n",
       "      <td>1</td>\n",
       "      <td>1</td>\n",
       "      <td>0</td>\n",
       "      <td>39</td>\n",
       "      <td>230</td>\n",
       "      <td>12</td>\n",
       "      <td>12</td>\n",
       "      <td>1</td>\n",
       "      <td>2</td>\n",
       "      <td>1</td>\n",
       "      <td>2</td>\n",
       "      <td>2</td>\n",
       "      <td>1</td>\n",
       "      <td>1</td>\n",
       "      <td>1</td>\n",
       "      <td>2</td>\n",
       "      <td>1</td>\n",
       "      <td>1</td>\n",
       "      <td>36000</td>\n",
       "      <td>3204</td>\n",
       "      <td>60</td>\n",
       "      <td>70</td>\n",
       "    </tr>\n",
       "    <tr>\n",
       "      <th>1</th>\n",
       "      <td>BENE11002</td>\n",
       "      <td>1936-09-01</td>\n",
       "      <td>NaN</td>\n",
       "      <td>2</td>\n",
       "      <td>1</td>\n",
       "      <td>0</td>\n",
       "      <td>39</td>\n",
       "      <td>280</td>\n",
       "      <td>12</td>\n",
       "      <td>12</td>\n",
       "      <td>2</td>\n",
       "      <td>2</td>\n",
       "      <td>2</td>\n",
       "      <td>2</td>\n",
       "      <td>2</td>\n",
       "      <td>2</td>\n",
       "      <td>2</td>\n",
       "      <td>2</td>\n",
       "      <td>2</td>\n",
       "      <td>2</td>\n",
       "      <td>2</td>\n",
       "      <td>0</td>\n",
       "      <td>0</td>\n",
       "      <td>30</td>\n",
       "      <td>50</td>\n",
       "    </tr>\n",
       "    <tr>\n",
       "      <th>2</th>\n",
       "      <td>BENE11003</td>\n",
       "      <td>1936-08-01</td>\n",
       "      <td>NaN</td>\n",
       "      <td>1</td>\n",
       "      <td>1</td>\n",
       "      <td>0</td>\n",
       "      <td>52</td>\n",
       "      <td>590</td>\n",
       "      <td>12</td>\n",
       "      <td>12</td>\n",
       "      <td>1</td>\n",
       "      <td>2</td>\n",
       "      <td>2</td>\n",
       "      <td>2</td>\n",
       "      <td>2</td>\n",
       "      <td>2</td>\n",
       "      <td>2</td>\n",
       "      <td>1</td>\n",
       "      <td>2</td>\n",
       "      <td>2</td>\n",
       "      <td>2</td>\n",
       "      <td>0</td>\n",
       "      <td>0</td>\n",
       "      <td>90</td>\n",
       "      <td>40</td>\n",
       "    </tr>\n",
       "    <tr>\n",
       "      <th>3</th>\n",
       "      <td>BENE11004</td>\n",
       "      <td>1922-07-01</td>\n",
       "      <td>NaN</td>\n",
       "      <td>1</td>\n",
       "      <td>1</td>\n",
       "      <td>0</td>\n",
       "      <td>39</td>\n",
       "      <td>270</td>\n",
       "      <td>12</td>\n",
       "      <td>12</td>\n",
       "      <td>1</td>\n",
       "      <td>1</td>\n",
       "      <td>2</td>\n",
       "      <td>2</td>\n",
       "      <td>2</td>\n",
       "      <td>2</td>\n",
       "      <td>1</td>\n",
       "      <td>1</td>\n",
       "      <td>1</td>\n",
       "      <td>1</td>\n",
       "      <td>2</td>\n",
       "      <td>0</td>\n",
       "      <td>0</td>\n",
       "      <td>1810</td>\n",
       "      <td>760</td>\n",
       "    </tr>\n",
       "    <tr>\n",
       "      <th>4</th>\n",
       "      <td>BENE11005</td>\n",
       "      <td>1935-09-01</td>\n",
       "      <td>NaN</td>\n",
       "      <td>1</td>\n",
       "      <td>1</td>\n",
       "      <td>0</td>\n",
       "      <td>24</td>\n",
       "      <td>680</td>\n",
       "      <td>12</td>\n",
       "      <td>12</td>\n",
       "      <td>2</td>\n",
       "      <td>2</td>\n",
       "      <td>2</td>\n",
       "      <td>2</td>\n",
       "      <td>1</td>\n",
       "      <td>2</td>\n",
       "      <td>1</td>\n",
       "      <td>2</td>\n",
       "      <td>2</td>\n",
       "      <td>2</td>\n",
       "      <td>2</td>\n",
       "      <td>0</td>\n",
       "      <td>0</td>\n",
       "      <td>1790</td>\n",
       "      <td>1200</td>\n",
       "    </tr>\n",
       "  </tbody>\n",
       "</table>\n",
       "</div>"
      ],
      "text/plain": [
       "      BeneID         DOB  ... OPAnnualReimbursementAmt  OPAnnualDeductibleAmt\n",
       "0  BENE11001  1943-01-01  ...                       60                     70\n",
       "1  BENE11002  1936-09-01  ...                       30                     50\n",
       "2  BENE11003  1936-08-01  ...                       90                     40\n",
       "3  BENE11004  1922-07-01  ...                     1810                    760\n",
       "4  BENE11005  1935-09-01  ...                     1790                   1200\n",
       "\n",
       "[5 rows x 25 columns]"
      ]
     },
     "execution_count": 9,
     "metadata": {
      "tags": []
     },
     "output_type": "execute_result"
    }
   ],
   "source": [
    "beneficiary .head()"
   ]
  },
  {
   "cell_type": "code",
   "execution_count": null,
   "metadata": {
    "id": "uLU6wS8WynYH"
   },
   "outputs": [],
   "source": [
    "#https://rohansoni-jssaten2019.medium.com/healthcare-provider-fraud-detection-and-analysis-machine-learning-6af6366caff2\n",
    "# Merge in_pt, out_pt and ben df into a single patient dataset\n",
    "merged_data = pd.merge(in_pt, out_pt,left_on = [ idx for idx in out_pt.columns if idx in in_pt.columns],\n",
    "                        right_on = [ idx for idx in out_pt.columns if idx in in_pt.columns],\n",
    "                        how = 'outer').\\\n",
    "              merge(beneficiary,left_on='BeneID',right_on='BeneID',how='inner')"
   ]
  },
  {
   "cell_type": "code",
   "execution_count": null,
   "metadata": {
    "colab": {
     "base_uri": "https://localhost:8080/"
    },
    "executionInfo": {
     "elapsed": 3738,
     "status": "ok",
     "timestamp": 1621421342426,
     "user": {
      "displayName": "SAYAN KUNDU",
      "photoUrl": "",
      "userId": "02417134633143582297"
     },
     "user_tz": -330
    },
    "id": "7Z2zJ8lSynYJ",
    "outputId": "38ea420f-c60e-4f6d-8f67-a645bff05d11"
   },
   "outputs": [
    {
     "data": {
      "text/plain": [
       "Index(['BeneID', 'ClaimID', 'ClaimStartDt', 'ClaimEndDt', 'Provider',\n",
       "       'InscClaimAmtReimbursed', 'AttendingPhysician', 'OperatingPhysician',\n",
       "       'OtherPhysician', 'AdmissionDt', 'ClmAdmitDiagnosisCode',\n",
       "       'DeductibleAmtPaid', 'DischargeDt', 'DiagnosisGroupCode',\n",
       "       'ClmDiagnosisCode_1', 'ClmDiagnosisCode_2', 'ClmDiagnosisCode_3',\n",
       "       'ClmDiagnosisCode_4', 'ClmDiagnosisCode_5', 'ClmDiagnosisCode_6',\n",
       "       'ClmDiagnosisCode_7', 'ClmDiagnosisCode_8', 'ClmDiagnosisCode_9',\n",
       "       'ClmDiagnosisCode_10', 'ClmProcedureCode_1', 'ClmProcedureCode_2',\n",
       "       'ClmProcedureCode_3', 'ClmProcedureCode_4', 'ClmProcedureCode_5',\n",
       "       'ClmProcedureCode_6', 'DOB', 'DOD', 'Gender', 'Race',\n",
       "       'RenalDiseaseIndicator', 'State', 'County', 'NoOfMonths_PartACov',\n",
       "       'NoOfMonths_PartBCov', 'ChronicCond_Alzheimer',\n",
       "       'ChronicCond_Heartfailure', 'ChronicCond_KidneyDisease',\n",
       "       'ChronicCond_Cancer', 'ChronicCond_ObstrPulmonary',\n",
       "       'ChronicCond_Depression', 'ChronicCond_Diabetes',\n",
       "       'ChronicCond_IschemicHeart', 'ChronicCond_Osteoporasis',\n",
       "       'ChronicCond_rheumatoidarthritis', 'ChronicCond_stroke',\n",
       "       'IPAnnualReimbursementAmt', 'IPAnnualDeductibleAmt',\n",
       "       'OPAnnualReimbursementAmt', 'OPAnnualDeductibleAmt'],\n",
       "      dtype='object')"
      ]
     },
     "execution_count": 11,
     "metadata": {
      "tags": []
     },
     "output_type": "execute_result"
    }
   ],
   "source": [
    "merged_data.columns"
   ]
  },
  {
   "cell_type": "code",
   "execution_count": null,
   "metadata": {
    "colab": {
     "base_uri": "https://localhost:8080/",
     "height": 309
    },
    "executionInfo": {
     "elapsed": 963,
     "status": "ok",
     "timestamp": 1621421342430,
     "user": {
      "displayName": "SAYAN KUNDU",
      "photoUrl": "",
      "userId": "02417134633143582297"
     },
     "user_tz": -330
    },
    "id": "YsBqJK8OynYK",
    "outputId": "2655232b-ec61-4ca1-def2-52c7741c5d5a"
   },
   "outputs": [
    {
     "data": {
      "text/html": [
       "<div>\n",
       "<style scoped>\n",
       "    .dataframe tbody tr th:only-of-type {\n",
       "        vertical-align: middle;\n",
       "    }\n",
       "\n",
       "    .dataframe tbody tr th {\n",
       "        vertical-align: top;\n",
       "    }\n",
       "\n",
       "    .dataframe thead th {\n",
       "        text-align: right;\n",
       "    }\n",
       "</style>\n",
       "<table border=\"1\" class=\"dataframe\">\n",
       "  <thead>\n",
       "    <tr style=\"text-align: right;\">\n",
       "      <th></th>\n",
       "      <th>BeneID</th>\n",
       "      <th>ClaimID</th>\n",
       "      <th>ClaimStartDt</th>\n",
       "      <th>ClaimEndDt</th>\n",
       "      <th>Provider</th>\n",
       "      <th>InscClaimAmtReimbursed</th>\n",
       "      <th>AttendingPhysician</th>\n",
       "      <th>OperatingPhysician</th>\n",
       "      <th>OtherPhysician</th>\n",
       "      <th>AdmissionDt</th>\n",
       "      <th>ClmAdmitDiagnosisCode</th>\n",
       "      <th>DeductibleAmtPaid</th>\n",
       "      <th>DischargeDt</th>\n",
       "      <th>DiagnosisGroupCode</th>\n",
       "      <th>ClmDiagnosisCode_1</th>\n",
       "      <th>ClmDiagnosisCode_2</th>\n",
       "      <th>ClmDiagnosisCode_3</th>\n",
       "      <th>ClmDiagnosisCode_4</th>\n",
       "      <th>ClmDiagnosisCode_5</th>\n",
       "      <th>ClmDiagnosisCode_6</th>\n",
       "      <th>ClmDiagnosisCode_7</th>\n",
       "      <th>ClmDiagnosisCode_8</th>\n",
       "      <th>ClmDiagnosisCode_9</th>\n",
       "      <th>ClmDiagnosisCode_10</th>\n",
       "      <th>ClmProcedureCode_1</th>\n",
       "      <th>ClmProcedureCode_2</th>\n",
       "      <th>ClmProcedureCode_3</th>\n",
       "      <th>ClmProcedureCode_4</th>\n",
       "      <th>ClmProcedureCode_5</th>\n",
       "      <th>ClmProcedureCode_6</th>\n",
       "      <th>DOB</th>\n",
       "      <th>DOD</th>\n",
       "      <th>Gender</th>\n",
       "      <th>Race</th>\n",
       "      <th>RenalDiseaseIndicator</th>\n",
       "      <th>State</th>\n",
       "      <th>County</th>\n",
       "      <th>NoOfMonths_PartACov</th>\n",
       "      <th>NoOfMonths_PartBCov</th>\n",
       "      <th>ChronicCond_Alzheimer</th>\n",
       "      <th>ChronicCond_Heartfailure</th>\n",
       "      <th>ChronicCond_KidneyDisease</th>\n",
       "      <th>ChronicCond_Cancer</th>\n",
       "      <th>ChronicCond_ObstrPulmonary</th>\n",
       "      <th>ChronicCond_Depression</th>\n",
       "      <th>ChronicCond_Diabetes</th>\n",
       "      <th>ChronicCond_IschemicHeart</th>\n",
       "      <th>ChronicCond_Osteoporasis</th>\n",
       "      <th>ChronicCond_rheumatoidarthritis</th>\n",
       "      <th>ChronicCond_stroke</th>\n",
       "      <th>IPAnnualReimbursementAmt</th>\n",
       "      <th>IPAnnualDeductibleAmt</th>\n",
       "      <th>OPAnnualReimbursementAmt</th>\n",
       "      <th>OPAnnualDeductibleAmt</th>\n",
       "    </tr>\n",
       "  </thead>\n",
       "  <tbody>\n",
       "    <tr>\n",
       "      <th>0</th>\n",
       "      <td>BENE11001</td>\n",
       "      <td>CLM46614</td>\n",
       "      <td>2009-04-12</td>\n",
       "      <td>2009-04-18</td>\n",
       "      <td>PRV55912</td>\n",
       "      <td>26000</td>\n",
       "      <td>PHY390922</td>\n",
       "      <td>NaN</td>\n",
       "      <td>NaN</td>\n",
       "      <td>2009-04-12</td>\n",
       "      <td>7866</td>\n",
       "      <td>1068.0</td>\n",
       "      <td>2009-04-18</td>\n",
       "      <td>201</td>\n",
       "      <td>1970</td>\n",
       "      <td>4019</td>\n",
       "      <td>5853</td>\n",
       "      <td>7843</td>\n",
       "      <td>2768</td>\n",
       "      <td>71590</td>\n",
       "      <td>2724</td>\n",
       "      <td>19889</td>\n",
       "      <td>5849</td>\n",
       "      <td>NaN</td>\n",
       "      <td>NaN</td>\n",
       "      <td>NaN</td>\n",
       "      <td>NaN</td>\n",
       "      <td>NaN</td>\n",
       "      <td>NaN</td>\n",
       "      <td>NaN</td>\n",
       "      <td>1943-01-01</td>\n",
       "      <td>NaN</td>\n",
       "      <td>1</td>\n",
       "      <td>1</td>\n",
       "      <td>0</td>\n",
       "      <td>39</td>\n",
       "      <td>230</td>\n",
       "      <td>12</td>\n",
       "      <td>12</td>\n",
       "      <td>1</td>\n",
       "      <td>2</td>\n",
       "      <td>1</td>\n",
       "      <td>2</td>\n",
       "      <td>2</td>\n",
       "      <td>1</td>\n",
       "      <td>1</td>\n",
       "      <td>1</td>\n",
       "      <td>2</td>\n",
       "      <td>1</td>\n",
       "      <td>1</td>\n",
       "      <td>36000</td>\n",
       "      <td>3204</td>\n",
       "      <td>60</td>\n",
       "      <td>70</td>\n",
       "    </tr>\n",
       "    <tr>\n",
       "      <th>1</th>\n",
       "      <td>BENE11001</td>\n",
       "      <td>CLM66048</td>\n",
       "      <td>2009-08-31</td>\n",
       "      <td>2009-09-02</td>\n",
       "      <td>PRV55907</td>\n",
       "      <td>5000</td>\n",
       "      <td>PHY318495</td>\n",
       "      <td>PHY318495</td>\n",
       "      <td>NaN</td>\n",
       "      <td>2009-08-31</td>\n",
       "      <td>6186</td>\n",
       "      <td>1068.0</td>\n",
       "      <td>2009-09-02</td>\n",
       "      <td>750</td>\n",
       "      <td>6186</td>\n",
       "      <td>2948</td>\n",
       "      <td>56400</td>\n",
       "      <td>NaN</td>\n",
       "      <td>NaN</td>\n",
       "      <td>NaN</td>\n",
       "      <td>NaN</td>\n",
       "      <td>NaN</td>\n",
       "      <td>NaN</td>\n",
       "      <td>NaN</td>\n",
       "      <td>7092.0</td>\n",
       "      <td>NaN</td>\n",
       "      <td>NaN</td>\n",
       "      <td>NaN</td>\n",
       "      <td>NaN</td>\n",
       "      <td>NaN</td>\n",
       "      <td>1943-01-01</td>\n",
       "      <td>NaN</td>\n",
       "      <td>1</td>\n",
       "      <td>1</td>\n",
       "      <td>0</td>\n",
       "      <td>39</td>\n",
       "      <td>230</td>\n",
       "      <td>12</td>\n",
       "      <td>12</td>\n",
       "      <td>1</td>\n",
       "      <td>2</td>\n",
       "      <td>1</td>\n",
       "      <td>2</td>\n",
       "      <td>2</td>\n",
       "      <td>1</td>\n",
       "      <td>1</td>\n",
       "      <td>1</td>\n",
       "      <td>2</td>\n",
       "      <td>1</td>\n",
       "      <td>1</td>\n",
       "      <td>36000</td>\n",
       "      <td>3204</td>\n",
       "      <td>60</td>\n",
       "      <td>70</td>\n",
       "    </tr>\n",
       "    <tr>\n",
       "      <th>2</th>\n",
       "      <td>BENE11001</td>\n",
       "      <td>CLM68358</td>\n",
       "      <td>2009-09-17</td>\n",
       "      <td>2009-09-20</td>\n",
       "      <td>PRV56046</td>\n",
       "      <td>5000</td>\n",
       "      <td>PHY372395</td>\n",
       "      <td>NaN</td>\n",
       "      <td>PHY324689</td>\n",
       "      <td>2009-09-17</td>\n",
       "      <td>29590</td>\n",
       "      <td>1068.0</td>\n",
       "      <td>2009-09-20</td>\n",
       "      <td>883</td>\n",
       "      <td>29623</td>\n",
       "      <td>30390</td>\n",
       "      <td>71690</td>\n",
       "      <td>34590</td>\n",
       "      <td>V1581</td>\n",
       "      <td>32723</td>\n",
       "      <td>NaN</td>\n",
       "      <td>NaN</td>\n",
       "      <td>NaN</td>\n",
       "      <td>NaN</td>\n",
       "      <td>NaN</td>\n",
       "      <td>NaN</td>\n",
       "      <td>NaN</td>\n",
       "      <td>NaN</td>\n",
       "      <td>NaN</td>\n",
       "      <td>NaN</td>\n",
       "      <td>1943-01-01</td>\n",
       "      <td>NaN</td>\n",
       "      <td>1</td>\n",
       "      <td>1</td>\n",
       "      <td>0</td>\n",
       "      <td>39</td>\n",
       "      <td>230</td>\n",
       "      <td>12</td>\n",
       "      <td>12</td>\n",
       "      <td>1</td>\n",
       "      <td>2</td>\n",
       "      <td>1</td>\n",
       "      <td>2</td>\n",
       "      <td>2</td>\n",
       "      <td>1</td>\n",
       "      <td>1</td>\n",
       "      <td>1</td>\n",
       "      <td>2</td>\n",
       "      <td>1</td>\n",
       "      <td>1</td>\n",
       "      <td>36000</td>\n",
       "      <td>3204</td>\n",
       "      <td>60</td>\n",
       "      <td>70</td>\n",
       "    </tr>\n",
       "    <tr>\n",
       "      <th>3</th>\n",
       "      <td>BENE11011</td>\n",
       "      <td>CLM38412</td>\n",
       "      <td>2009-02-14</td>\n",
       "      <td>2009-02-22</td>\n",
       "      <td>PRV52405</td>\n",
       "      <td>5000</td>\n",
       "      <td>PHY369659</td>\n",
       "      <td>PHY392961</td>\n",
       "      <td>PHY349768</td>\n",
       "      <td>2009-02-14</td>\n",
       "      <td>431</td>\n",
       "      <td>1068.0</td>\n",
       "      <td>2009-02-22</td>\n",
       "      <td>067</td>\n",
       "      <td>43491</td>\n",
       "      <td>2762</td>\n",
       "      <td>7843</td>\n",
       "      <td>32723</td>\n",
       "      <td>V1041</td>\n",
       "      <td>4254</td>\n",
       "      <td>25062</td>\n",
       "      <td>40390</td>\n",
       "      <td>4019</td>\n",
       "      <td>NaN</td>\n",
       "      <td>331.0</td>\n",
       "      <td>NaN</td>\n",
       "      <td>NaN</td>\n",
       "      <td>NaN</td>\n",
       "      <td>NaN</td>\n",
       "      <td>NaN</td>\n",
       "      <td>1914-03-01</td>\n",
       "      <td>NaN</td>\n",
       "      <td>2</td>\n",
       "      <td>2</td>\n",
       "      <td>0</td>\n",
       "      <td>1</td>\n",
       "      <td>360</td>\n",
       "      <td>12</td>\n",
       "      <td>12</td>\n",
       "      <td>2</td>\n",
       "      <td>1</td>\n",
       "      <td>1</td>\n",
       "      <td>2</td>\n",
       "      <td>2</td>\n",
       "      <td>1</td>\n",
       "      <td>1</td>\n",
       "      <td>2</td>\n",
       "      <td>2</td>\n",
       "      <td>1</td>\n",
       "      <td>1</td>\n",
       "      <td>5000</td>\n",
       "      <td>1068</td>\n",
       "      <td>250</td>\n",
       "      <td>320</td>\n",
       "    </tr>\n",
       "    <tr>\n",
       "      <th>4</th>\n",
       "      <td>BENE11011</td>\n",
       "      <td>CLM144521</td>\n",
       "      <td>2009-01-18</td>\n",
       "      <td>2009-01-18</td>\n",
       "      <td>PRV52314</td>\n",
       "      <td>50</td>\n",
       "      <td>PHY379398</td>\n",
       "      <td>NaN</td>\n",
       "      <td>NaN</td>\n",
       "      <td>NaN</td>\n",
       "      <td>78900</td>\n",
       "      <td>0.0</td>\n",
       "      <td>NaN</td>\n",
       "      <td>NaN</td>\n",
       "      <td>78969</td>\n",
       "      <td>78701</td>\n",
       "      <td>V5866</td>\n",
       "      <td>59389</td>\n",
       "      <td>2449</td>\n",
       "      <td>NaN</td>\n",
       "      <td>NaN</td>\n",
       "      <td>NaN</td>\n",
       "      <td>NaN</td>\n",
       "      <td>NaN</td>\n",
       "      <td>NaN</td>\n",
       "      <td>NaN</td>\n",
       "      <td>NaN</td>\n",
       "      <td>NaN</td>\n",
       "      <td>NaN</td>\n",
       "      <td>NaN</td>\n",
       "      <td>1914-03-01</td>\n",
       "      <td>NaN</td>\n",
       "      <td>2</td>\n",
       "      <td>2</td>\n",
       "      <td>0</td>\n",
       "      <td>1</td>\n",
       "      <td>360</td>\n",
       "      <td>12</td>\n",
       "      <td>12</td>\n",
       "      <td>2</td>\n",
       "      <td>1</td>\n",
       "      <td>1</td>\n",
       "      <td>2</td>\n",
       "      <td>2</td>\n",
       "      <td>1</td>\n",
       "      <td>1</td>\n",
       "      <td>2</td>\n",
       "      <td>2</td>\n",
       "      <td>1</td>\n",
       "      <td>1</td>\n",
       "      <td>5000</td>\n",
       "      <td>1068</td>\n",
       "      <td>250</td>\n",
       "      <td>320</td>\n",
       "    </tr>\n",
       "  </tbody>\n",
       "</table>\n",
       "</div>"
      ],
      "text/plain": [
       "      BeneID    ClaimID  ... OPAnnualReimbursementAmt OPAnnualDeductibleAmt\n",
       "0  BENE11001   CLM46614  ...                       60                    70\n",
       "1  BENE11001   CLM66048  ...                       60                    70\n",
       "2  BENE11001   CLM68358  ...                       60                    70\n",
       "3  BENE11011   CLM38412  ...                      250                   320\n",
       "4  BENE11011  CLM144521  ...                      250                   320\n",
       "\n",
       "[5 rows x 54 columns]"
      ]
     },
     "execution_count": 12,
     "metadata": {
      "tags": []
     },
     "output_type": "execute_result"
    }
   ],
   "source": [
    "merged_data.head()"
   ]
  },
  {
   "cell_type": "markdown",
   "metadata": {
    "id": "BfEQmJGxynYM"
   },
   "source": [
    "# Explotery data analysis"
   ]
  },
  {
   "cell_type": "code",
   "execution_count": null,
   "metadata": {
    "id": "QP8FD925ynYN"
   },
   "outputs": [],
   "source": [
    "def univariategraph(lst1,lst2,lst3,ylabel,xlabel):\n",
    "    #https://matplotlib.org/3.1.1/gallery/lines_bars_and_markers/barchart.html\n",
    "    labels = lst3\n",
    "    fraudno = lst2\n",
    "    fraudyes = lst1\n",
    "\n",
    "    x = np.arange(len(labels))  # the label locations\n",
    "    width = 0.35  # the width of the bars\n",
    "\n",
    "    fig, ax = plt.subplots()\n",
    "    rects1 = ax.bar(x - width/2,fraudno , width, label='NO fraud')\n",
    "    rects2 = ax.bar(x + width/2,fraudyes , width, label='yes fraud')\n",
    "\n",
    "    # Add some text for labels, title and custom x-axis tick labels, etc.\n",
    "    ax.set_ylabel(ylabel)\n",
    "    #ax.set_title('patients vs  doctor')\n",
    "    ax.set_xlabel(xlabel)\n",
    "    ax.set_xticks(x)\n",
    "    ax.set_xticklabels(labels)\n",
    "    ax.legend()\n"
   ]
  },
  {
   "cell_type": "code",
   "execution_count": null,
   "metadata": {
    "id": "AOkUX2S5ynYP"
   },
   "outputs": [],
   "source": [
    "def barplotmake(variable,yaxis,xaxis):\n",
    "    Train_fyes = fraud_provider_ip_df.loc[(fraud_provider_ip_df['PotentialFraud'] == 'Yes')]\n",
    "    fraudyes=Train_fyes[variable].value_counts()\n",
    "   # df = pd.DataFrame()\n",
    "    fraudyes = fraudyes.to_frame()\n",
    "    fraudyes['count']=fraudyes[variable]\n",
    "    fraudyes['number'] = fraudyes.index\n",
    "    fraudyes=fraudyes.drop([variable],axis=1)\n",
    "    Train_fno = fraud_provider_ip_df.loc[(fraud_provider_ip_df['PotentialFraud'] == 'No')]\n",
    "    fraudno=Train_fno[variable].value_counts()\n",
    "    fraudno = fraudno.to_frame()\n",
    "    fraudno['count']=fraudno[variable]\n",
    "    fraudno['number'] =fraudno.index\n",
    "    fraudno=fraudno.drop([variable],axis=1)\n",
    "    lst1=fraudyes['count']\n",
    "    lst2=fraudno['count']\n",
    "    lst3=fraudno['number']\n",
    "    univariategraph(lst1,lst2,lst3,yaxis,xaxis)"
   ]
  },
  {
   "cell_type": "code",
   "execution_count": null,
   "metadata": {
    "id": "ofHfGZ2dynYR"
   },
   "outputs": [],
   "source": [
    "#Train_fno =  pd.DataFrame(columns = ['PotentialFraud', 'Provider'])\n",
    "#Train_fno = target.loc[(target['PotentialFraud'] == 'No')]\n",
    "#fraud_provider_ip_dfno = pd.merge(merged_data, Train_fno, how='inner', on='Provider')\n",
    "fraud_provider_ip_df = pd.merge(merged_data,target, how='inner', on='Provider')\n",
    "\n",
    "\n",
    "fraud_provider_ip_df['AttendingPhysician']= fraud_provider_ip_df['AttendingPhysician'].replace(np.nan,0, regex=True)\n",
    "fraud_provider_ip_df['OperatingPhysician']= fraud_provider_ip_df['OperatingPhysician'].replace(np.nan,0, regex=True)\n",
    "fraud_provider_ip_df['OtherPhysician'] = fraud_provider_ip_df['OtherPhysician'].replace(np.nan, 0, regex=True)\n",
    "fraud_provider_ip_df['numberofdoctor'] = fraud_provider_ip_df[[\"AttendingPhysician\",\"OperatingPhysician\",\"OtherPhysician\"]].apply(lambda x:x.unique().tolist(), axis=1)\n"
   ]
  },
  {
   "cell_type": "code",
   "execution_count": null,
   "metadata": {
    "id": "bkXTk5ywynYS"
   },
   "outputs": [],
   "source": [
    "for sentance in (fraud_provider_ip_df['numberofdoctor'].values):\n",
    "        for i in sentance:\n",
    "            if i==0:\n",
    "                sentance.remove(0)"
   ]
  },
  {
   "cell_type": "code",
   "execution_count": null,
   "metadata": {
    "id": "0IeKk441ynYT"
   },
   "outputs": [],
   "source": [
    "fraud_provider_ip_df['uniquenumberofdoctor'] = fraud_provider_ip_df[\"numberofdoctor\"].str.len()"
   ]
  },
  {
   "cell_type": "code",
   "execution_count": null,
   "metadata": {
    "colab": {
     "base_uri": "https://localhost:8080/",
     "height": 282
    },
    "executionInfo": {
     "elapsed": 25764,
     "status": "ok",
     "timestamp": 1621421381695,
     "user": {
      "displayName": "SAYAN KUNDU",
      "photoUrl": "",
      "userId": "02417134633143582297"
     },
     "user_tz": -330
    },
    "id": "QbhE0yqwynYU",
    "outputId": "e7a90aa1-9740-412e-b85a-54eea18266bd"
   },
   "outputs": [
    {
     "data": {
      "image/png": "[encoded data removed]",
      "text/plain": [
       "<Figure size 432x288 with 1 Axes>"
      ]
     },
     "metadata": {
      "tags": []
     },
     "output_type": "display_data"
    }
   ],
   "source": [
    "barplotmake('uniquenumberofdoctor','cases','uniquenumberofdoctor')"
   ]
  },
  {
   "cell_type": "markdown",
   "metadata": {
    "id": "FLA5L5jEynYV"
   },
   "source": [
    "Here we take each patient who are attended by how many number of doctor here.As we see in the dataset that same doctor present for one patient in multiple role like operating physian,attending physian etc.So we take for each patient how many unique number of doctor is present. We can see that the provider who's patients are victim of  the fraud they are mostly attended by one number of doctor."
   ]
  },
  {
   "cell_type": "markdown",
   "metadata": {
    "id": "5Cu3oTBcynYW"
   },
   "source": [
    "# Fraud State"
   ]
  },
  {
   "cell_type": "code",
   "execution_count": null,
   "metadata": {
    "id": "CIZsuJRLynYW"
   },
   "outputs": [],
   "source": [
    "Train_fyes = fraud_provider_ip_df.loc[(fraud_provider_ip_df['PotentialFraud'] == 'Yes')]\n",
    "fraudyes=Train_fyes['State'].value_counts()\n",
    "fraudyes = fraudyes.to_frame()\n",
    "fraudyes['count']=fraudyes['State']\n",
    "fraudyes['number'] = fraudyes.index\n",
    "fraudyes=fraudyes.drop(['State'],axis=1)\n",
    "lst1=fraudyes['count']\n",
    "lst3=fraudyes['number']\n",
    "statelabels = lst3\n",
    "fraudyes = lst1"
   ]
  },
  {
   "cell_type": "code",
   "execution_count": null,
   "metadata": {
    "colab": {
     "base_uri": "https://localhost:8080/",
     "height": 517
    },
    "executionInfo": {
     "elapsed": 21436,
     "status": "ok",
     "timestamp": 1621421382390,
     "user": {
      "displayName": "SAYAN KUNDU",
      "photoUrl": "",
      "userId": "02417134633143582297"
     },
     "user_tz": -330
    },
    "id": "UsTmJb8jynYX",
    "outputId": "71db45c6-1875-4b8c-88f8-8eb997516e5d"
   },
   "outputs": [
    {
     "data": {
      "text/plain": [
       "<matplotlib.legend.Legend at 0x7f1f21540450>"
      ]
     },
     "execution_count": 20,
     "metadata": {
      "tags": []
     },
     "output_type": "execute_result"
    },
    {
     "data": {
      "image/png": "[encoded data removed]",
      "text/plain": [
       "<Figure size 1008x576 with 1 Axes>"
      ]
     },
     "metadata": {
      "tags": []
     },
     "output_type": "display_data"
    }
   ],
   "source": [
    "x = np.arange(len(statelabels))  # the label locations\n",
    "width = 0.35  # the width of the bars\n",
    "fig, ax = plt.subplots(figsize =(14, 8))\n",
    "rects2 = ax.bar(x + width/2,fraudyes , width, label='yes fraud')\n",
    "ax.set_xticks(x)\n",
    "ax.set_xticklabels(statelabels)\n",
    "ax.set_ylabel('numberof cases')\n",
    "#ax.set_title('patients vs  doctor')\n",
    "ax.set_xlabel('statecode')\n",
    "ax.legend()"
   ]
  },
  {
   "cell_type": "code",
   "execution_count": null,
   "metadata": {
    "id": "IarsNaPUynYZ"
   },
   "outputs": [],
   "source": [
    "statecode=statelabels[:15]\n",
    "fraudstate=[]\n",
    "for code in (fraud_provider_ip_df['State'].values):\n",
    "    if code in statecode:\n",
    "        fraudstate.append(1)\n",
    "    else:\n",
    "        fraudstate.append(0)\n",
    "fraud_provider_ip_df['fraudstate']=fraudstate"
   ]
  },
  {
   "cell_type": "markdown",
   "metadata": {
    "id": "hYbArEbFynYa"
   },
   "source": [
    "# Fraud country"
   ]
  },
  {
   "cell_type": "code",
   "execution_count": null,
   "metadata": {
    "id": "zdcfdaZkynYo"
   },
   "outputs": [],
   "source": [
    "Train_fyes = fraud_provider_ip_df.loc[(fraud_provider_ip_df['PotentialFraud'] == 'Yes')]\n",
    "fraudyes=Train_fyes['County'].value_counts()\n",
    "fraudyes = fraudyes.to_frame()\n",
    "fraudyes['count']=fraudyes['County']\n",
    "fraudyes['number'] = fraudyes.index\n",
    "fraudyes=fraudyes.drop(['County'],axis=1)\n",
    "lst1=fraudyes['count']\n",
    "lst3=fraudyes['number']\n",
    "countrylabels = lst3[:20]\n",
    "fraudyes = lst1[:20]"
   ]
  },
  {
   "cell_type": "code",
   "execution_count": null,
   "metadata": {
    "colab": {
     "base_uri": "https://localhost:8080/",
     "height": 517
    },
    "executionInfo": {
     "elapsed": 3334,
     "status": "ok",
     "timestamp": 1621421385941,
     "user": {
      "displayName": "SAYAN KUNDU",
      "photoUrl": "",
      "userId": "02417134633143582297"
     },
     "user_tz": -330
    },
    "id": "Q3srIMliynYq",
    "outputId": "4b11e8e1-4475-41b6-cc33-faaecfee271d"
   },
   "outputs": [
    {
     "data": {
      "text/plain": [
       "<matplotlib.legend.Legend at 0x7f1f261dd150>"
      ]
     },
     "execution_count": 23,
     "metadata": {
      "tags": []
     },
     "output_type": "execute_result"
    },
    {
     "data": {
      "image/png": "[encoded data removed]",
      "text/plain": [
       "<Figure size 1008x576 with 1 Axes>"
      ]
     },
     "metadata": {
      "tags": []
     },
     "output_type": "display_data"
    }
   ],
   "source": [
    "x = np.arange(len(countrylabels))  # the label locations\n",
    "width = 0.35  # the width of the bars\n",
    "fig, ax = plt.subplots(figsize =(14, 8))\n",
    "rects2 = ax.bar(x + width/2,fraudyes , width, label='yes fraud' )\n",
    "ax.set_xticks(x)\n",
    "ax.set_ylabel('numberofcases')\n",
    "#ax.set_title('patients vs  doctor')\n",
    "ax.set_xlabel('countrycode')\n",
    "ax.set_xticklabels(countrylabels)\n",
    "ax.legend()"
   ]
  },
  {
   "cell_type": "code",
   "execution_count": null,
   "metadata": {
    "id": "coWmhs8OynYs"
   },
   "outputs": [],
   "source": [
    "countrycode=countrylabels[:15]\n",
    "fraudcountry=[]\n",
    "for code in (fraud_provider_ip_df['County'].values):\n",
    "    if code in countrycode:\n",
    "        fraudcountry.append(1)\n",
    "    else:\n",
    "        fraudcountry.append(0)\n",
    "fraud_provider_ip_df['fraudcountry']=fraudcountry"
   ]
  },
  {
   "cell_type": "markdown",
   "metadata": {
    "id": "_B7RZ2woynYu"
   },
   "source": [
    "# is admitted"
   ]
  },
  {
   "cell_type": "code",
   "execution_count": null,
   "metadata": {
    "id": "834qDvYEynYu"
   },
   "outputs": [],
   "source": [
    "fraud_provider_ip_df['AdmissionDt'] = fraud_provider_ip_df['AdmissionDt'].replace(np.nan, 0)\n",
    "def admission(df):\n",
    "    lst=[]\n",
    "    for i in (df):\n",
    "        if i==0:\n",
    "            lst.append(0)\n",
    "        else:\n",
    "            lst.append(1)\n",
    "    return(lst)"
   ]
  },
  {
   "cell_type": "code",
   "execution_count": null,
   "metadata": {
    "id": "E9giBo6vynYv"
   },
   "outputs": [],
   "source": [
    "mn=admission(fraud_provider_ip_df['AdmissionDt'])\n",
    "fraud_provider_ip_df['isadmitted']=mn"
   ]
  },
  {
   "cell_type": "code",
   "execution_count": null,
   "metadata": {
    "colab": {
     "base_uri": "https://localhost:8080/",
     "height": 282
    },
    "executionInfo": {
     "elapsed": 5166,
     "status": "ok",
     "timestamp": 1621421387870,
     "user": {
      "displayName": "SAYAN KUNDU",
      "photoUrl": "",
      "userId": "02417134633143582297"
     },
     "user_tz": -330
    },
    "id": "bH4hEG9IynYx",
    "outputId": "b0670cf3-ab9b-4b71-94c0-39af46be649c"
   },
   "outputs": [
    {
     "data": {
      "image/png": "[encoded data removed]",
      "text/plain": [
       "<Figure size 432x288 with 1 Axes>"
      ]
     },
     "metadata": {
      "tags": []
     },
     "output_type": "display_data"
    }
   ],
   "source": [
    "barplotmake('isadmitted','cases','admitted')"
   ]
  },
  {
   "cell_type": "markdown",
   "metadata": {
    "id": "ubLbEX_9nlcL"
   },
   "source": [
    "Here we can see that who are victim  of fraud not admitted in the hospital zero means not admitted 1 means admitted"
   ]
  },
  {
   "cell_type": "markdown",
   "metadata": {
    "id": "ed0VjD_WynYy"
   },
   "source": [
    "# is discharge"
   ]
  },
  {
   "cell_type": "code",
   "execution_count": null,
   "metadata": {
    "id": "TiqUdDMzynYz"
   },
   "outputs": [],
   "source": [
    "fraud_provider_ip_df['DischargeDt'] = fraud_provider_ip_df['DischargeDt'].replace(np.nan, 0)\n"
   ]
  },
  {
   "cell_type": "code",
   "execution_count": null,
   "metadata": {
    "id": "lhgbKiMOynY0"
   },
   "outputs": [],
   "source": [
    "mn1=admission(fraud_provider_ip_df['DischargeDt'])\n",
    "fraud_provider_ip_df['isdischarge']=mn1"
   ]
  },
  {
   "cell_type": "code",
   "execution_count": null,
   "metadata": {
    "colab": {
     "base_uri": "https://localhost:8080/",
     "height": 282
    },
    "executionInfo": {
     "elapsed": 5869,
     "status": "ok",
     "timestamp": 1621421388643,
     "user": {
      "displayName": "SAYAN KUNDU",
      "photoUrl": "",
      "userId": "02417134633143582297"
     },
     "user_tz": -330
    },
    "id": "_xseANUEynY2",
    "outputId": "780dcffa-ef0b-498e-a019-84973f7d313b"
   },
   "outputs": [
    {
     "data": {
      "image/png": "[encoded data removed]",
      "text/plain": [
       "<Figure size 432x288 with 1 Axes>"
      ]
     },
     "metadata": {
      "tags": []
     },
     "output_type": "display_data"
    }
   ],
   "source": [
    "barplotmake('isdischarge','cases','discharge')"
   ]
  },
  {
   "cell_type": "markdown",
   "metadata": {
    "id": "Axa3zsDxynY3"
   },
   "source": [
    "# admitted days"
   ]
  },
  {
   "cell_type": "code",
   "execution_count": null,
   "metadata": {
    "id": "RMwd1yMiynY4"
   },
   "outputs": [],
   "source": [
    "fraud_provider_ip_df['DischargeDt'] = pd.to_datetime(fraud_provider_ip_df['DischargeDt'] , format = '%Y-%m-%d')\n",
    "fraud_provider_ip_df['AdmissionDt'] = pd.to_datetime(fraud_provider_ip_df['AdmissionDt'],format = '%Y-%m-%d',errors='ignore')\n",
    "\n",
    "fraud_provider_ip_df['admitteddays'] = round(((fraud_provider_ip_df['DischargeDt'] -fraud_provider_ip_df['AdmissionDt']).dt.days))\n"
   ]
  },
  {
   "cell_type": "code",
   "execution_count": null,
   "metadata": {
    "colab": {
     "base_uri": "https://localhost:8080/",
     "height": 369
    },
    "executionInfo": {
     "elapsed": 13811,
     "status": "ok",
     "timestamp": 1621421398610,
     "user": {
      "displayName": "SAYAN KUNDU",
      "photoUrl": "",
      "userId": "02417134633143582297"
     },
     "user_tz": -330
    },
    "id": "mrI-0mH9ynY5",
    "outputId": "9d447d83-d983-4c82-f123-079941b62289"
   },
   "outputs": [
    {
     "data": {
      "image/png": "[encoded data removed]",
      "text/plain": [
       "<Figure size 439.75x360 with 1 Axes>"
      ]
     },
     "metadata": {
      "tags": []
     },
     "output_type": "display_data"
    }
   ],
   "source": [
    "import warnings\n",
    "warnings.filterwarnings('ignore')\n",
    "sns.FacetGrid(fraud_provider_ip_df,hue='PotentialFraud',size=5)\\\n",
    ".map(sns.distplot,\"admitteddays\")\\\n",
    ".add_legend()\n",
    "plt.ylabel('number of points')\n",
    "plt.show()"
   ]
  },
  {
   "cell_type": "markdown",
   "metadata": {
    "id": "XcmLS93vynY7"
   },
   "source": [
    "Here we plot the pdf of admitted days of all patients.Who arevictim of fraud they stay in the hospiltal for shorter period of time than other people."
   ]
  },
  {
   "cell_type": "markdown",
   "metadata": {
    "id": "eHqyUp4SynY8"
   },
   "source": [
    "# Difference between Number of procedural code-Number of claim code"
   ]
  },
  {
   "cell_type": "code",
   "execution_count": null,
   "metadata": {
    "id": "NEiYpMIDynY8"
   },
   "outputs": [],
   "source": [
    "\n",
    "fraud_provider_ip_df[[ 'ClmDiagnosisCode_1', 'ClmDiagnosisCode_2', 'ClmDiagnosisCode_3',\n",
    "       'ClmDiagnosisCode_4', 'ClmDiagnosisCode_5', 'ClmDiagnosisCode_6',\n",
    "       'ClmDiagnosisCode_7', 'ClmDiagnosisCode_8', 'ClmDiagnosisCode_9',\n",
    "       'ClmDiagnosisCode_10']] = np.where(fraud_provider_ip_df[[ 'ClmDiagnosisCode_1', 'ClmDiagnosisCode_2', 'ClmDiagnosisCode_3',\n",
    "       'ClmDiagnosisCode_4', 'ClmDiagnosisCode_5', 'ClmDiagnosisCode_6',\n",
    "       'ClmDiagnosisCode_7', 'ClmDiagnosisCode_8', 'ClmDiagnosisCode_9',\n",
    "       'ClmDiagnosisCode_10',]].isnull(), 0, 1)\n",
    "\n",
    "\n",
    "fraud_provider_ip_df[['ClmProcedureCode_1', 'ClmProcedureCode_2',\n",
    "       'ClmProcedureCode_3', 'ClmProcedureCode_4', 'ClmProcedureCode_5',\n",
    "       'ClmProcedureCode_6']] = np.where(fraud_provider_ip_df[[ 'ClmProcedureCode_1', 'ClmProcedureCode_2',\n",
    "       'ClmProcedureCode_3', 'ClmProcedureCode_4', 'ClmProcedureCode_5',\n",
    "       'ClmProcedureCode_6']].isnull(), 0, 1)\n",
    "\n"
   ]
  },
  {
   "cell_type": "code",
   "execution_count": null,
   "metadata": {
    "id": "DWOADoaDynY-"
   },
   "outputs": [],
   "source": [
    "fraud_provider_ip_df['totaldiagnosiscode']=fraud_provider_ip_df['ClmDiagnosisCode_1']+fraud_provider_ip_df['ClmDiagnosisCode_2']+fraud_provider_ip_df['ClmDiagnosisCode_3']+fraud_provider_ip_df['ClmDiagnosisCode_4']+fraud_provider_ip_df['ClmDiagnosisCode_5']+fraud_provider_ip_df['ClmDiagnosisCode_6']+fraud_provider_ip_df['ClmDiagnosisCode_7']+fraud_provider_ip_df['ClmDiagnosisCode_8']+fraud_provider_ip_df['ClmDiagnosisCode_9']+fraud_provider_ip_df['ClmDiagnosisCode_10']\n",
    "fraud_provider_ip_df['totalproceduralcode']=fraud_provider_ip_df['ClmProcedureCode_1']+fraud_provider_ip_df['ClmProcedureCode_2']+fraud_provider_ip_df['ClmProcedureCode_3']+fraud_provider_ip_df['ClmProcedureCode_4']+fraud_provider_ip_df['ClmProcedureCode_5']+fraud_provider_ip_df['ClmProcedureCode_6']\n",
    "fraud_provider_ip_df['difference']=abs(fraud_provider_ip_df['totaldiagnosiscode']-fraud_provider_ip_df['totalproceduralcode'])\n"
   ]
  },
  {
   "cell_type": "code",
   "execution_count": null,
   "metadata": {
    "colab": {
     "base_uri": "https://localhost:8080/",
     "height": 282
    },
    "executionInfo": {
     "elapsed": 12343,
     "status": "ok",
     "timestamp": 1621421403333,
     "user": {
      "displayName": "SAYAN KUNDU",
      "photoUrl": "",
      "userId": "02417134633143582297"
     },
     "user_tz": -330
    },
    "id": "xK6ppdA1ynZC",
    "outputId": "646282f2-1f6b-49bf-eebd-4be7cf032716"
   },
   "outputs": [
    {
     "data": {
      "image/png": "[encoded data removed]",
      "text/plain": [
       "<Figure size 432x288 with 1 Axes>"
      ]
     },
     "metadata": {
      "tags": []
     },
     "output_type": "display_data"
    }
   ],
   "source": [
    "barplotmake('difference','cases','difference')"
   ]
  },
  {
   "cell_type": "markdown",
   "metadata": {
    "id": "kuEnuF71ynZD"
   },
   "source": [
    " here for each patient we take total number of diagonosis code and total number of procedural code and take difference between them Here difference is represented by x axis y axis is number of patients\n",
    "Here we can see that whose provider are doing the fraud their difference is higher than innocent provider."
   ]
  },
  {
   "cell_type": "markdown",
   "metadata": {
    "id": "hJNSaec9ynZE"
   },
   "source": [
    "# dedactable amount present"
   ]
  },
  {
   "cell_type": "code",
   "execution_count": null,
   "metadata": {
    "id": "ukFe9R7VynZF"
   },
   "outputs": [],
   "source": [
    "fraud_provider_ip_df['DeductibleAmtPaid'] = fraud_provider_ip_df['DeductibleAmtPaid'].replace(np.nan, 0)\n"
   ]
  },
  {
   "cell_type": "code",
   "execution_count": null,
   "metadata": {
    "id": "P8S30ptNynZH"
   },
   "outputs": [],
   "source": [
    "def deductable(df):\n",
    "    lst=[]\n",
    "    for i in (df):\n",
    "        if i==0:\n",
    "            lst.append(0)\n",
    "        else:\n",
    "            lst.append(1)\n",
    "    return(lst)"
   ]
  },
  {
   "cell_type": "code",
   "execution_count": null,
   "metadata": {
    "id": "hLGk3aMrynZI"
   },
   "outputs": [],
   "source": [
    "mn2=deductable(fraud_provider_ip_df['DeductibleAmtPaid'])\n",
    "fraud_provider_ip_df['isductable']=mn2\n"
   ]
  },
  {
   "cell_type": "code",
   "execution_count": null,
   "metadata": {
    "colab": {
     "base_uri": "https://localhost:8080/",
     "height": 282
    },
    "executionInfo": {
     "elapsed": 7268,
     "status": "ok",
     "timestamp": 1621421404585,
     "user": {
      "displayName": "SAYAN KUNDU",
      "photoUrl": "",
      "userId": "02417134633143582297"
     },
     "user_tz": -330
    },
    "id": "6fT-GKx4ynZI",
    "outputId": "7c55b511-893b-40db-fe22-f28740f0a4ac"
   },
   "outputs": [
    {
     "data": {
      "image/png": "[encoded data removed]",
      "text/plain": [
       "<Figure size 432x288 with 1 Axes>"
      ]
     },
     "metadata": {
      "tags": []
     },
     "output_type": "display_data"
    }
   ],
   "source": [
    "barplotmake('isductable','cases','presentstatus')"
   ]
  },
  {
   "cell_type": "markdown",
   "metadata": {
    "id": "8IYPQdvbynZJ"
   },
   "source": [
    " Here zero means DeductibleAmtPaid is not given by the beneficiary 1 means given.So who are victim of fraud there's number present less than other people."
   ]
  },
  {
   "cell_type": "markdown",
   "metadata": {
    "id": "OdPPKBoaynZK"
   },
   "source": [
    "# same or not"
   ]
  },
  {
   "cell_type": "code",
   "execution_count": null,
   "metadata": {
    "id": "UMsSY0tnynZL"
   },
   "outputs": [],
   "source": [
    "fraud_provider_ip_df['DiagnosisGroupCode'] = fraud_provider_ip_df['DiagnosisGroupCode'].replace(np.nan, 0)\n",
    "fraud_provider_ip_df['ClmAdmitDiagnosisCode'] = fraud_provider_ip_df['ClmAdmitDiagnosisCode'].replace(np.nan, 0)\n"
   ]
  },
  {
   "cell_type": "code",
   "execution_count": null,
   "metadata": {
    "id": "TpBq-UYFynZL"
   },
   "outputs": [],
   "source": [
    "fraud_provider_ip_df['issamecode'] = np.where((fraud_provider_ip_df['DiagnosisGroupCode'] == fraud_provider_ip_df['ClmAdmitDiagnosisCode']), 1, 0)\n"
   ]
  },
  {
   "cell_type": "code",
   "execution_count": null,
   "metadata": {
    "colab": {
     "base_uri": "https://localhost:8080/"
    },
    "executionInfo": {
     "elapsed": 1459,
     "status": "ok",
     "timestamp": 1621421404592,
     "user": {
      "displayName": "SAYAN KUNDU",
      "photoUrl": "",
      "userId": "02417134633143582297"
     },
     "user_tz": -330
    },
    "id": "DCmg4xRDynZM",
    "outputId": "b8860e5a-6e58-49d8-e8aa-52f43285a957"
   },
   "outputs": [
    {
     "data": {
      "text/plain": [
       "0         0\n",
       "1         1\n",
       "2         0\n",
       "3         0\n",
       "4         0\n",
       "         ..\n",
       "558206    1\n",
       "558207    0\n",
       "558208    1\n",
       "558209    1\n",
       "558210    1\n",
       "Name: issamecode, Length: 558211, dtype: int64"
      ]
     },
     "execution_count": 42,
     "metadata": {
      "tags": []
     },
     "output_type": "execute_result"
    }
   ],
   "source": [
    "fraud_provider_ip_df['issamecode']"
   ]
  },
  {
   "cell_type": "code",
   "execution_count": null,
   "metadata": {
    "colab": {
     "base_uri": "https://localhost:8080/",
     "height": 282
    },
    "executionInfo": {
     "elapsed": 2399,
     "status": "ok",
     "timestamp": 1621421407942,
     "user": {
      "displayName": "SAYAN KUNDU",
      "photoUrl": "",
      "userId": "02417134633143582297"
     },
     "user_tz": -330
    },
    "id": "zxI4lQa1ynZN",
    "outputId": "7e7fd299-3e81-467b-aa25-0a9e53069b87"
   },
   "outputs": [
    {
     "data": {
      "image/png": "[encoded data removed]",
      "text/plain": [
       "<Figure size 432x288 with 1 Axes>"
      ]
     },
     "metadata": {
      "tags": []
     },
     "output_type": "display_data"
    }
   ],
   "source": [
    "barplotmake('issamecode','cases','samecodestatus')"
   ]
  },
  {
   "cell_type": "markdown",
   "metadata": {
    "id": "Hdx0w8MXynZN"
   },
   "source": [
    "Here Here one means 'DiagnosisGroupCode' and 'ClmAdmitDiagnosisCode' this two code same for a beneficiary zero  means not.So who are victim of fraud there number present less than other people"
   ]
  },
  {
   "cell_type": "markdown",
   "metadata": {
    "id": "HTT_TWAEynZO"
   },
   "source": [
    "# Number of diseases"
   ]
  },
  {
   "cell_type": "code",
   "execution_count": null,
   "metadata": {
    "id": "yWjT_AReynZO"
   },
   "outputs": [],
   "source": [
    "##Replacing 2 with 0 for chronic conditions ,that means chroniv condition No is 0 and yes is 1\n",
    "\n",
    "fraud_provider_ip_df = fraud_provider_ip_df.replace({'ChronicCond_Alzheimer': 2, 'ChronicCond_Heartfailure': 2, 'ChronicCond_KidneyDisease': 2,\n",
    "                           'ChronicCond_Cancer': 2, 'ChronicCond_ObstrPulmonary': 2, 'ChronicCond_Depression': 2, \n",
    "                           'ChronicCond_Diabetes': 2, 'ChronicCond_IschemicHeart': 2, 'ChronicCond_Osteoporasis': 2, \n",
    "                           'ChronicCond_rheumatoidarthritis': 2, 'ChronicCond_stroke': 2 }, 0)\n",
    "fraud_provider_ip_df=fraud_provider_ip_df.replace({'RenalDiseaseIndicator': 'Y'}, 1)\n",
    "#in the RenalDiseaseIndicator some values are 0 and Y so we replace'Y' with 1.\n",
    "\n"
   ]
  },
  {
   "cell_type": "code",
   "execution_count": null,
   "metadata": {
    "id": "G1yWUOaXynZQ"
   },
   "outputs": [],
   "source": [
    "diseases=['ChronicCond_Alzheimer','ChronicCond_Heartfailure','ChronicCond_KidneyDisease', 'ChronicCond_Cancer','ChronicCond_ObstrPulmonary','ChronicCond_Depression','ChronicCond_Diabetes','ChronicCond_IschemicHeart','ChronicCond_Osteoporasis','ChronicCond_rheumatoidarthritis','ChronicCond_stroke']"
   ]
  },
  {
   "cell_type": "code",
   "execution_count": null,
   "metadata": {
    "id": "jPorV6M-ynZQ"
   },
   "outputs": [],
   "source": [
    "fraud_provider_ip_df['suffering']=fraud_provider_ip_df[diseases].sum(axis = 1)\n"
   ]
  },
  {
   "cell_type": "code",
   "execution_count": null,
   "metadata": {
    "colab": {
     "base_uri": "https://localhost:8080/"
    },
    "executionInfo": {
     "elapsed": 2133,
     "status": "ok",
     "timestamp": 1621421414070,
     "user": {
      "displayName": "SAYAN KUNDU",
      "photoUrl": "",
      "userId": "02417134633143582297"
     },
     "user_tz": -330
    },
    "id": "bF4HvIG9ynZR",
    "outputId": "f60f3863-4129-46e1-9443-608e1ea72a58"
   },
   "outputs": [
    {
     "data": {
      "text/plain": [
       "0    7\n",
       "1    4\n",
       "2    5\n",
       "3    2\n",
       "4    6\n",
       "Name: suffering, dtype: int64"
      ]
     },
     "execution_count": 47,
     "metadata": {
      "tags": []
     },
     "output_type": "execute_result"
    }
   ],
   "source": [
    "fraud_provider_ip_df['suffering'].head()"
   ]
  },
  {
   "cell_type": "code",
   "execution_count": null,
   "metadata": {
    "colab": {
     "base_uri": "https://localhost:8080/",
     "height": 282
    },
    "executionInfo": {
     "elapsed": 2227,
     "status": "ok",
     "timestamp": 1621421415333,
     "user": {
      "displayName": "SAYAN KUNDU",
      "photoUrl": "",
      "userId": "02417134633143582297"
     },
     "user_tz": -330
    },
    "id": "HI6jaeOcynZR",
    "outputId": "eb3ca470-7c1e-4db7-f92c-5806af2208dc"
   },
   "outputs": [
    {
     "data": {
      "image/png": "[encoded data removed]",
      "text/plain": [
       "<Figure size 432x288 with 1 Axes>"
      ]
     },
     "metadata": {
      "tags": []
     },
     "output_type": "display_data"
    }
   ],
   "source": [
    "barplotmake('suffering','cases','difference')"
   ]
  },
  {
   "cell_type": "markdown",
   "metadata": {
    "id": "NnHbpK-synZS"
   },
   "source": [
    "Here We take each patient and we calculate how many total number diseases he/she is suffering form.Here x axis represents the number of diseases.y axis is number of patient we can see that who are doing the fraud they suffer more number of diseases than innocent people ."
   ]
  },
  {
   "cell_type": "markdown",
   "metadata": {
    "id": "U4tMGLHtynZT"
   },
   "source": [
    "# Data preprocessing"
   ]
  },
  {
   "cell_type": "markdown",
   "metadata": {
    "id": "a3dhZokiynZT"
   },
   "source": [
    "# claimtime"
   ]
  },
  {
   "cell_type": "code",
   "execution_count": null,
   "metadata": {
    "id": "e1xC5Q-JynZU"
   },
   "outputs": [],
   "source": [
    "fraud_provider_ip_df['ClaimEndDt'] = pd.to_datetime(fraud_provider_ip_df['ClaimEndDt'], format = '%Y-%m-%d')\n",
    "fraud_provider_ip_df['ClaimStartDt'] = pd.to_datetime(fraud_provider_ip_df['ClaimStartDt'],format = '%Y-%m-%d',errors='ignore')\n",
    "\n",
    "fraud_provider_ip_df['claimtime'] =(fraud_provider_ip_df['ClaimEndDt'] -fraud_provider_ip_df['ClaimStartDt']).dt.days\n",
    "fraud_provider_ip_df.drop(['ClaimEndDt', 'ClaimStartDt'], axis=1, inplace=True)\n"
   ]
  },
  {
   "cell_type": "code",
   "execution_count": null,
   "metadata": {
    "id": "4_3R76suynZV"
   },
   "outputs": [],
   "source": [
    "claimtimeno= fraud_provider_ip_df.loc[(fraud_provider_ip_df['PotentialFraud'] == 'No')]\n",
    "claimtimeyes= fraud_provider_ip_df.loc[(fraud_provider_ip_df['PotentialFraud'] == 'Yes')]"
   ]
  },
  {
   "cell_type": "code",
   "execution_count": null,
   "metadata": {
    "colab": {
     "base_uri": "https://localhost:8080/",
     "height": 452
    },
    "executionInfo": {
     "elapsed": 2281,
     "status": "ok",
     "timestamp": 1621421422164,
     "user": {
      "displayName": "SAYAN KUNDU",
      "photoUrl": "",
      "userId": "02417134633143582297"
     },
     "user_tz": -330
    },
    "id": "95yGxr7XynZV",
    "outputId": "27d7ada0-99b0-4bad-980e-e64cd596ccb3"
   },
   "outputs": [
    {
     "name": "stdout",
     "output_type": "stream",
     "text": [
      "pdf values of Surv_status =1 [8.76447172e-01 2.34558430e-02 1.29843811e-02 1.55667820e-02\n",
      " 5.60195707e-03 4.76817741e-03 1.02659120e-02 3.54935368e-03\n",
      " 4.60952767e-02 3.79253941e-04 1.41858344e-04 1.50543549e-04\n",
      " 1.47648481e-04 6.07964333e-05 3.85044077e-04]\n",
      "pdf values of Surv_status=2 [8.37699017e-01 4.05317769e-02 3.19742852e-02 1.19880073e-02\n",
      " 7.72570913e-03 1.21101900e-02 5.54051768e-03 5.92586327e-03\n",
      " 4.29942292e-02 7.00201132e-04 6.72005113e-04 4.74632982e-04\n",
      " 2.96058197e-04 2.16169477e-04 1.15133743e-03]\n",
      "interval [ 0.   2.4  4.8  7.2  9.6 12.  14.4 16.8 19.2 21.6 24.  26.4 28.8 31.2\n",
      " 33.6 36. ]\n"
     ]
    },
    {
     "data": {
      "image/png": "[encoded data removed]",
      "text/plain": [
       "<Figure size 432x288 with 1 Axes>"
      ]
     },
     "metadata": {
      "tags": []
     },
     "output_type": "display_data"
    }
   ],
   "source": [
    "#lst1=fraud_providerclaimyes['count1']\n",
    "#lst2=fraud_providerclaimno['count1']\n",
    "counts,bin_edges=np.histogram(claimtimeno['claimtime'],bins=15,density=True)\n",
    "pdf=counts/sum(counts)\n",
    "cdf=np.cumsum(pdf)\n",
    "print('pdf values of Surv_status =1',pdf)\n",
    "plt.plot(bin_edges[1:],pdf)\n",
    "#plt.plot(bin_edges[1:],cdf)\n",
    "###########################################\n",
    "\n",
    "counts,bin_edges=np.histogram(claimtimeyes['claimtime'],bins=15,density=True)\n",
    "pdf=counts/sum(counts)\n",
    "cdf=np.cumsum(pdf)\n",
    "print('pdf values of Surv_status=2',pdf)\n",
    "print('interval',bin_edges)\n",
    "plt.plot(bin_edges[1:],pdf)\n",
    "#plt.plot(bin_edges[1:],cdf)\n",
    "plt.legend(['not doing fraud pdf',' doing fraud pdf'])\n",
    "plt.xlabel(\"Claimtime\")\n",
    "plt.ylabel('Number')\n",
    "plt.show()"
   ]
  },
  {
   "cell_type": "markdown",
   "metadata": {
    "id": "JlvxHkmEynZW"
   },
   "source": [
    "Here we can see for provider who are doing the fraud claim time is lower but number of cases is also lower than inocent cases."
   ]
  },
  {
   "cell_type": "markdown",
   "metadata": {
    "id": "3U55pJrMynZX"
   },
   "source": [
    "# Age of the patient"
   ]
  },
  {
   "cell_type": "code",
   "execution_count": null,
   "metadata": {
    "id": "sQz9XtQGynZY"
   },
   "outputs": [],
   "source": [
    "fraud_provider_ip_df['DOB'] = pd.to_datetime(fraud_provider_ip_df['DOB'], format = '%Y-%m-%d')\n",
    "fraud_provider_ip_df['DOD'] = fraud_provider_ip_df['DOD'].fillna(datetime.today().strftime('%Y-%m-%d'))\n",
    "fraud_provider_ip_df['Age'] = round((pd.to_datetime(fraud_provider_ip_df['DOD']) - pd.to_datetime(fraud_provider_ip_df['DOB'])).dt.days/365)\n",
    " "
   ]
  },
  {
   "cell_type": "code",
   "execution_count": null,
   "metadata": {
    "id": "HXo0_BYAynZZ"
   },
   "outputs": [],
   "source": [
    "ageno= fraud_provider_ip_df.loc[(fraud_provider_ip_df['PotentialFraud'] == 'No')]\n",
    "ageyes= fraud_provider_ip_df.loc[(fraud_provider_ip_df['PotentialFraud'] == 'Yes')]"
   ]
  },
  {
   "cell_type": "code",
   "execution_count": null,
   "metadata": {
    "colab": {
     "base_uri": "https://localhost:8080/",
     "height": 452
    },
    "executionInfo": {
     "elapsed": 1932,
     "status": "ok",
     "timestamp": 1621421428786,
     "user": {
      "displayName": "SAYAN KUNDU",
      "photoUrl": "",
      "userId": "02417134633143582297"
     },
     "user_tz": -330
    },
    "id": "tu3eweWVynZZ",
    "outputId": "93c434f4-e958-4329-c951-fc507bcf4c14"
   },
   "outputs": [
    {
     "name": "stdout",
     "output_type": "stream",
     "text": [
      "pdf values of Surv_status =1 [0.00594937 0.00742875 0.01200006 0.01332889 0.0248889  0.02820086\n",
      " 0.0375085  0.03947715 0.16420827 0.18341415 0.1647207  0.14452181\n",
      " 0.10076285 0.0393903  0.03419944]\n",
      "pdf values of Surv_status=2 [0.00578958 0.00678114 0.01192222 0.01334612 0.02435196 0.02751461\n",
      " 0.03570556 0.03844527 0.16187804 0.18523374 0.16329254 0.14487114\n",
      " 0.10331961 0.04212955 0.0354189 ]\n",
      "interval [ 36.          41.06666667  46.13333333  51.2         56.26666667\n",
      "  61.33333333  66.4         71.46666667  76.53333333  81.6\n",
      "  86.66666667  91.73333333  96.8        101.86666667 106.93333333\n",
      " 112.        ]\n"
     ]
    },
    {
     "data": {
      "image/png": "[encoded data removed]",
      "text/plain": [
       "<Figure size 432x288 with 1 Axes>"
      ]
     },
     "metadata": {
      "tags": []
     },
     "output_type": "display_data"
    }
   ],
   "source": [
    "#lst1=fraud_providerclaimyes['count1']\n",
    "#lst2=fraud_providerclaimno['count1']\n",
    "counts,bin_edges=np.histogram(ageno['Age'],bins=15,density=True)\n",
    "pdf=counts/sum(counts)\n",
    "cdf=np.cumsum(pdf)\n",
    "print('pdf values of Surv_status =1',pdf)\n",
    "plt.plot(bin_edges[1:],pdf)\n",
    "#plt.plot(bin_edges[1:],cdf)\n",
    "###########################################\n",
    "\n",
    "counts,bin_edges=np.histogram(ageyes['Age'],bins=15,density=True)\n",
    "pdf=counts/sum(counts)\n",
    "cdf=np.cumsum(pdf)\n",
    "print('pdf values of Surv_status=2',pdf)\n",
    "print('interval',bin_edges)\n",
    "plt.plot(bin_edges[1:],pdf)\n",
    "#plt.plot(bin_edges[1:],cdf)\n",
    "plt.legend(['not doing fraud pdf',' doing fraud pdf'])\n",
    "plt.xlabel(\"Age \")\n",
    "plt.ylabel('Number')\n",
    "plt.show()"
   ]
  },
  {
   "cell_type": "markdown",
   "metadata": {
    "id": "p2RdldSQynZb"
   },
   "source": [
    "Here we can't see any difference between fraud and non fraud but between age 80 to 90 years's people are victim of fraud for \n",
    "for  most of the cases."
   ]
  },
  {
   "cell_type": "markdown",
   "metadata": {
    "id": "RXY5oymgynZb"
   },
   "source": [
    "# Number of BeneID for provider"
   ]
  },
  {
   "cell_type": "code",
   "execution_count": null,
   "metadata": {
    "id": "DkX6PukxynZc"
   },
   "outputs": [],
   "source": [
    "Train_fno =  pd.DataFrame(columns = ['PotentialFraud', 'Provider'])\n",
    "Train_fno = target.loc[(target['PotentialFraud'] == 'No')]\n",
    "fraud_provider= pd.merge(merged_data, Train_fno, how='inner', on='Provider')\n",
    "df2 = fraud_provider[['BeneID', 'ClaimID']].groupby(merged_data['Provider']).nunique().reset_index()"
   ]
  },
  {
   "cell_type": "code",
   "execution_count": null,
   "metadata": {
    "colab": {
     "base_uri": "https://localhost:8080/",
     "height": 204
    },
    "executionInfo": {
     "elapsed": 1824,
     "status": "ok",
     "timestamp": 1621421433218,
     "user": {
      "displayName": "SAYAN KUNDU",
      "photoUrl": "",
      "userId": "02417134633143582297"
     },
     "user_tz": -330
    },
    "id": "NEKKGVIdynZc",
    "outputId": "00549d0f-ceaa-47f4-de1e-0c4014bf1569"
   },
   "outputs": [
    {
     "data": {
      "text/html": [
       "<div>\n",
       "<style scoped>\n",
       "    .dataframe tbody tr th:only-of-type {\n",
       "        vertical-align: middle;\n",
       "    }\n",
       "\n",
       "    .dataframe tbody tr th {\n",
       "        vertical-align: top;\n",
       "    }\n",
       "\n",
       "    .dataframe thead th {\n",
       "        text-align: right;\n",
       "    }\n",
       "</style>\n",
       "<table border=\"1\" class=\"dataframe\">\n",
       "  <thead>\n",
       "    <tr style=\"text-align: right;\">\n",
       "      <th></th>\n",
       "      <th>Provider</th>\n",
       "      <th>BeneID</th>\n",
       "      <th>ClaimID</th>\n",
       "    </tr>\n",
       "  </thead>\n",
       "  <tbody>\n",
       "    <tr>\n",
       "      <th>0</th>\n",
       "      <td>PRV51001</td>\n",
       "      <td>17</td>\n",
       "      <td>17</td>\n",
       "    </tr>\n",
       "    <tr>\n",
       "      <th>1</th>\n",
       "      <td>PRV51003</td>\n",
       "      <td>100</td>\n",
       "      <td>105</td>\n",
       "    </tr>\n",
       "    <tr>\n",
       "      <th>2</th>\n",
       "      <td>PRV51004</td>\n",
       "      <td>77</td>\n",
       "      <td>77</td>\n",
       "    </tr>\n",
       "    <tr>\n",
       "      <th>3</th>\n",
       "      <td>PRV51005</td>\n",
       "      <td>587</td>\n",
       "      <td>708</td>\n",
       "    </tr>\n",
       "    <tr>\n",
       "      <th>4</th>\n",
       "      <td>PRV51007</td>\n",
       "      <td>33</td>\n",
       "      <td>35</td>\n",
       "    </tr>\n",
       "  </tbody>\n",
       "</table>\n",
       "</div>"
      ],
      "text/plain": [
       "   Provider  BeneID  ClaimID\n",
       "0  PRV51001      17       17\n",
       "1  PRV51003     100      105\n",
       "2  PRV51004      77       77\n",
       "3  PRV51005     587      708\n",
       "4  PRV51007      33       35"
      ]
     },
     "execution_count": 56,
     "metadata": {
      "tags": []
     },
     "output_type": "execute_result"
    }
   ],
   "source": [
    "df2.head()"
   ]
  },
  {
   "cell_type": "code",
   "execution_count": null,
   "metadata": {
    "id": "HyZz781fynZd"
   },
   "outputs": [],
   "source": [
    "Train_fyes =  pd.DataFrame(columns = ['PotentialFraud', 'Provider'])\n",
    "Train_fyes = target.loc[(target['PotentialFraud'] == 'Yes')]\n",
    "fraud_provideryes = pd.merge(merged_data, Train_fyes, how='inner', on='Provider')\n",
    "df3 = fraud_provideryes[['BeneID', 'ClaimID']].groupby(merged_data['Provider']).nunique().reset_index()"
   ]
  },
  {
   "cell_type": "code",
   "execution_count": null,
   "metadata": {
    "colab": {
     "base_uri": "https://localhost:8080/",
     "height": 204
    },
    "executionInfo": {
     "elapsed": 1072,
     "status": "ok",
     "timestamp": 1621421436007,
     "user": {
      "displayName": "SAYAN KUNDU",
      "photoUrl": "",
      "userId": "02417134633143582297"
     },
     "user_tz": -330
    },
    "id": "MPKZWPTLynZe",
    "outputId": "0af3b0ec-17f9-4a59-dd8f-ab6a157842f4"
   },
   "outputs": [
    {
     "data": {
      "text/html": [
       "<div>\n",
       "<style scoped>\n",
       "    .dataframe tbody tr th:only-of-type {\n",
       "        vertical-align: middle;\n",
       "    }\n",
       "\n",
       "    .dataframe tbody tr th {\n",
       "        vertical-align: top;\n",
       "    }\n",
       "\n",
       "    .dataframe thead th {\n",
       "        text-align: right;\n",
       "    }\n",
       "</style>\n",
       "<table border=\"1\" class=\"dataframe\">\n",
       "  <thead>\n",
       "    <tr style=\"text-align: right;\">\n",
       "      <th></th>\n",
       "      <th>Provider</th>\n",
       "      <th>BeneID</th>\n",
       "      <th>ClaimID</th>\n",
       "    </tr>\n",
       "  </thead>\n",
       "  <tbody>\n",
       "    <tr>\n",
       "      <th>0</th>\n",
       "      <td>PRV51001</td>\n",
       "      <td>13</td>\n",
       "      <td>13</td>\n",
       "    </tr>\n",
       "    <tr>\n",
       "      <th>1</th>\n",
       "      <td>PRV51003</td>\n",
       "      <td>76</td>\n",
       "      <td>82</td>\n",
       "    </tr>\n",
       "    <tr>\n",
       "      <th>2</th>\n",
       "      <td>PRV51004</td>\n",
       "      <td>43</td>\n",
       "      <td>43</td>\n",
       "    </tr>\n",
       "    <tr>\n",
       "      <th>3</th>\n",
       "      <td>PRV51005</td>\n",
       "      <td>302</td>\n",
       "      <td>395</td>\n",
       "    </tr>\n",
       "    <tr>\n",
       "      <th>4</th>\n",
       "      <td>PRV51007</td>\n",
       "      <td>26</td>\n",
       "      <td>26</td>\n",
       "    </tr>\n",
       "  </tbody>\n",
       "</table>\n",
       "</div>"
      ],
      "text/plain": [
       "   Provider  BeneID  ClaimID\n",
       "0  PRV51001      13       13\n",
       "1  PRV51003      76       82\n",
       "2  PRV51004      43       43\n",
       "3  PRV51005     302      395\n",
       "4  PRV51007      26       26"
      ]
     },
     "execution_count": 58,
     "metadata": {
      "tags": []
     },
     "output_type": "execute_result"
    }
   ],
   "source": [
    "df3.head()"
   ]
  },
  {
   "cell_type": "code",
   "execution_count": null,
   "metadata": {
    "colab": {
     "base_uri": "https://localhost:8080/",
     "height": 490
    },
    "executionInfo": {
     "elapsed": 1067,
     "status": "ok",
     "timestamp": 1621421438552,
     "user": {
      "displayName": "SAYAN KUNDU",
      "photoUrl": "",
      "userId": "02417134633143582297"
     },
     "user_tz": -330
    },
    "id": "OCr6N2kOynZf",
    "outputId": "67a7cdb8-a0a2-433b-9587-e78415a61736"
   },
   "outputs": [
    {
     "name": "stdout",
     "output_type": "stream",
     "text": [
      "pdf values of Surv_status =1 [9.38606848e-01 4.13223140e-02 1.02321921e-02 4.32900433e-03\n",
      " 2.95159386e-03 9.83864620e-04 3.93545848e-04 3.93545848e-04\n",
      " 0.00000000e+00 5.90318772e-04 0.00000000e+00 0.00000000e+00\n",
      " 0.00000000e+00 0.00000000e+00 1.96772924e-04]\n",
      "pdf values of Surv_status=2 [9.52840909e-01 3.14393939e-02 7.57575758e-03 3.97727273e-03\n",
      " 2.46212121e-03 5.68181818e-04 3.78787879e-04 1.89393939e-04\n",
      " 1.89393939e-04 1.89393939e-04 0.00000000e+00 0.00000000e+00\n",
      " 0.00000000e+00 0.00000000e+00 1.89393939e-04]\n",
      "interval [1.00000000e+00 2.54933333e+02 5.08866667e+02 7.62800000e+02\n",
      " 1.01673333e+03 1.27066667e+03 1.52460000e+03 1.77853333e+03\n",
      " 2.03246667e+03 2.28640000e+03 2.54033333e+03 2.79426667e+03\n",
      " 3.04820000e+03 3.30213333e+03 3.55606667e+03 3.81000000e+03]\n"
     ]
    },
    {
     "data": {
      "image/png": "[encoded data removed]",
      "text/plain": [
       "<Figure size 432x288 with 1 Axes>"
      ]
     },
     "metadata": {
      "tags": []
     },
     "output_type": "display_data"
    }
   ],
   "source": [
    "#lst1=fraud_providerclaimyes['count1']\n",
    "#lst2=fraud_providerclaimno['count1']\n",
    "counts,bin_edges=np.histogram(df3['BeneID'],bins=15,density=True)\n",
    "#print(bin_edges)\n",
    "pdf=counts/sum(counts)\n",
    "cdf=np.cumsum(pdf)\n",
    "print('pdf values of Surv_status =1',pdf)\n",
    "plt.plot(bin_edges[1:],pdf)\n",
    "#plt.plot(bin_edges[1:],cdf)\n",
    "###########################################\n",
    "\n",
    "counts,bin_edges=np.histogram(df2['BeneID'],bins=15,density=True)\n",
    "pdf=counts/sum(counts)\n",
    "cdf=np.cumsum(pdf)\n",
    "print('pdf values of Surv_status=2',pdf)\n",
    "print('interval',bin_edges)\n",
    "plt.plot(bin_edges[1:],pdf)\n",
    "#plt.plot(bin_edges[1:],cdf)\n",
    "plt.legend(['not doing fraud pdf',' doing fraud pdf'])\n",
    "plt.xlabel(\"numberofBneid\")\n",
    "plt.ylabel('Number')\n",
    "plt.show()"
   ]
  },
  {
   "cell_type": "markdown",
   "metadata": {
    "id": "qU7V0dgiynZy"
   },
   "source": [
    "Here whose provider doing the fraud their number of beneid is 300 to 500 for most of the cases."
   ]
  },
  {
   "cell_type": "markdown",
   "metadata": {
    "id": "4CzYx8MzynZz"
   },
   "source": [
    "# Amount get"
   ]
  },
  {
   "cell_type": "code",
   "execution_count": null,
   "metadata": {
    "id": "tFqkikmXynZ0"
   },
   "outputs": [],
   "source": [
    "fraud_provider_ip_df['moneygot']=fraud_provider_ip_df['InscClaimAmtReimbursed']-fraud_provider_ip_df['DeductibleAmtPaid']\n"
   ]
  },
  {
   "cell_type": "code",
   "execution_count": null,
   "metadata": {
    "colab": {
     "base_uri": "https://localhost:8080/",
     "height": 282
    },
    "executionInfo": {
     "elapsed": 2772,
     "status": "ok",
     "timestamp": 1621421444632,
     "user": {
      "displayName": "SAYAN KUNDU",
      "photoUrl": "",
      "userId": "02417134633143582297"
     },
     "user_tz": -330
    },
    "id": "EwJoKNptynZ0",
    "outputId": "1819031f-96c8-4a2c-ef92-82d98136f641"
   },
   "outputs": [
    {
     "data": {
      "image/png": "[encoded data removed]",
      "text/plain": [
       "<Figure size 432x288 with 1 Axes>"
      ]
     },
     "metadata": {
      "tags": []
     },
     "output_type": "display_data"
    }
   ],
   "source": [
    "sns.boxplot(x='PotentialFraud',y='moneygot',data=fraud_provider_ip_df)\n",
    "plt.show()"
   ]
  },
  {
   "cell_type": "markdown",
   "metadata": {
    "id": "O1YVY-SwynZ1"
   },
   "source": [
    "So here we defined it here how much money, here money=(InscClaimAmtReimbursed money-deductibele) every person got from the provider ,but between two we can't see any difference"
   ]
  },
  {
   "cell_type": "code",
   "execution_count": null,
   "metadata": {
    "id": "FVKnPIMmynZ2"
   },
   "outputs": [],
   "source": [
    "fraud_provider_ip_df['moneygotIP']=fraud_provider_ip_df['IPAnnualReimbursementAmt']-fraud_provider_ip_df['IPAnnualDeductibleAmt']\n"
   ]
  },
  {
   "cell_type": "code",
   "execution_count": null,
   "metadata": {
    "colab": {
     "base_uri": "https://localhost:8080/",
     "height": 282
    },
    "executionInfo": {
     "elapsed": 2317,
     "status": "ok",
     "timestamp": 1621421447525,
     "user": {
      "displayName": "SAYAN KUNDU",
      "photoUrl": "",
      "userId": "02417134633143582297"
     },
     "user_tz": -330
    },
    "id": "9-c12kn4ynZ3",
    "outputId": "fa4573d9-0d54-4509-bc94-c7747d336e5a"
   },
   "outputs": [
    {
     "data": {
      "image/png": "[encoded data removed]",
      "text/plain": [
       "<Figure size 432x288 with 1 Axes>"
      ]
     },
     "metadata": {
      "tags": []
     },
     "output_type": "display_data"
    }
   ],
   "source": [
    "sns.boxplot(x='PotentialFraud',y='moneygotIP',data=fraud_provider_ip_df)\n",
    "plt.show()"
   ]
  },
  {
   "cell_type": "markdown",
   "metadata": {
    "id": "PHs2jq4iynZ4"
   },
   "source": [
    "So here we defined it here how much money, here money=(IPInscClaimAmtReimbursed money-IPdeductibele) every person got from the provider ,but between two we can't see any difference"
   ]
  },
  {
   "cell_type": "code",
   "execution_count": null,
   "metadata": {
    "colab": {
     "base_uri": "https://localhost:8080/",
     "height": 282
    },
    "executionInfo": {
     "elapsed": 2002,
     "status": "ok",
     "timestamp": 1621421450264,
     "user": {
      "displayName": "SAYAN KUNDU",
      "photoUrl": "",
      "userId": "02417134633143582297"
     },
     "user_tz": -330
    },
    "id": "AcInP5fjynZ5",
    "outputId": "e3cb834d-953c-41a4-8676-eed71915949d"
   },
   "outputs": [
    {
     "data": {
      "image/png": "[encoded data removed]",
      "text/plain": [
       "<Figure size 432x288 with 1 Axes>"
      ]
     },
     "metadata": {
      "tags": []
     },
     "output_type": "display_data"
    }
   ],
   "source": [
    "fraud_provider_ip_df['moneygotOP']=fraud_provider_ip_df['OPAnnualReimbursementAmt']-fraud_provider_ip_df['OPAnnualDeductibleAmt']\n",
    "\n",
    "sns.boxplot(x='PotentialFraud',y='moneygotOP',data=fraud_provider_ip_df)\n",
    "plt.show()"
   ]
  },
  {
   "cell_type": "markdown",
   "metadata": {
    "id": "yBgBkRD_ynZ6"
   },
   "source": [
    "So here we defined it here how much money, here money=(OPInscClaimAmtReimbursed money-OPdeductibele) every person got from the provider ,but between two we can't see any difference"
   ]
  },
  {
   "cell_type": "code",
   "execution_count": null,
   "metadata": {
    "colab": {
     "base_uri": "https://localhost:8080/"
    },
    "executionInfo": {
     "elapsed": 1137,
     "status": "ok",
     "timestamp": 1621421452026,
     "user": {
      "displayName": "SAYAN KUNDU",
      "photoUrl": "",
      "userId": "02417134633143582297"
     },
     "user_tz": -330
    },
    "id": "972Gt6eqynZ7",
    "outputId": "c7ebf1bd-a2d7-4528-886a-73c4dad0fafc"
   },
   "outputs": [
    {
     "data": {
      "text/plain": [
       "(558211, 71)"
      ]
     },
     "execution_count": 65,
     "metadata": {
      "tags": []
     },
     "output_type": "execute_result"
    }
   ],
   "source": [
    "fraud_provider_ip_df.shape"
   ]
  },
  {
   "cell_type": "markdown",
   "metadata": {
    "id": "9cNpLW0AynZ8"
   },
   "source": [
    "# Feature Engineering"
   ]
  },
  {
   "cell_type": "code",
   "execution_count": null,
   "metadata": {
    "colab": {
     "base_uri": "https://localhost:8080/"
    },
    "executionInfo": {
     "elapsed": 1699,
     "status": "ok",
     "timestamp": 1621421453519,
     "user": {
      "displayName": "SAYAN KUNDU",
      "photoUrl": "",
      "userId": "02417134633143582297"
     },
     "user_tz": -330
    },
    "id": "fVhZowG1ynZ9",
    "outputId": "44457c85-61c3-459c-c0d1-7463404013bb"
   },
   "outputs": [
    {
     "data": {
      "text/plain": [
       "ClmAdmitDiagnosisCode    0\n",
       "DeductibleAmtPaid        0\n",
       "DischargeDt              0\n",
       "DiagnosisGroupCode       0\n",
       "ClmDiagnosisCode_1       0\n",
       "                        ..\n",
       "issamecode               0\n",
       "suffering                0\n",
       "claimtime                0\n",
       "Age                      0\n",
       "moneygot                 0\n",
       "Length: 61, dtype: int64"
      ]
     },
     "execution_count": 66,
     "metadata": {
      "tags": []
     },
     "output_type": "execute_result"
    }
   ],
   "source": [
    "fraud_provider_ip_df.isna().sum()[8:69]"
   ]
  },
  {
   "cell_type": "code",
   "execution_count": null,
   "metadata": {
    "colab": {
     "base_uri": "https://localhost:8080/",
     "height": 782
    },
    "executionInfo": {
     "elapsed": 11026,
     "status": "ok",
     "timestamp": 1621421464925,
     "user": {
      "displayName": "SAYAN KUNDU",
      "photoUrl": "",
      "userId": "02417134633143582297"
     },
     "user_tz": -330
    },
    "id": "H4uBH1xsynZ9",
    "outputId": "4a233f9d-99b2-498d-958a-751dae1fa2e1"
   },
   "outputs": [
    {
     "data": {
      "text/plain": [
       "<matplotlib.axes._subplots.AxesSubplot at 0x7f1f1fc36650>"
      ]
     },
     "execution_count": 67,
     "metadata": {
      "tags": []
     },
     "output_type": "execute_result"
    },
    {
     "data": {
      "image/png": "[encoded data removed]",
      "text/plain": [
       "<Figure size 2160x1080 with 2 Axes>"
      ]
     },
     "metadata": {
      "tags": []
     },
     "output_type": "display_data"
    }
   ],
   "source": [
    "#plot correlation heat map between features\n",
    "sns.set(context='notebook', style='whitegrid')\n",
    "plt.figure(figsize=(30, 15))\n",
    "corr = fraud_provider_ip_df.corr()\n",
    "sns.heatmap(corr, annot=False)"
   ]
  },
  {
   "cell_type": "code",
   "execution_count": null,
   "metadata": {
    "colab": {
     "base_uri": "https://localhost:8080/",
     "height": 643
    },
    "executionInfo": {
     "elapsed": 6545,
     "status": "ok",
     "timestamp": 1621421464933,
     "user": {
      "displayName": "SAYAN KUNDU",
      "photoUrl": "",
      "userId": "02417134633143582297"
     },
     "user_tz": -330
    },
    "id": "HCXxXpXzynZ-",
    "outputId": "4d5c6a8f-b20b-446e-a600-b47278e27bfa"
   },
   "outputs": [
    {
     "data": {
      "text/html": [
       "<div>\n",
       "<style scoped>\n",
       "    .dataframe tbody tr th:only-of-type {\n",
       "        vertical-align: middle;\n",
       "    }\n",
       "\n",
       "    .dataframe tbody tr th {\n",
       "        vertical-align: top;\n",
       "    }\n",
       "\n",
       "    .dataframe thead th {\n",
       "        text-align: right;\n",
       "    }\n",
       "</style>\n",
       "<table border=\"1\" class=\"dataframe\">\n",
       "  <thead>\n",
       "    <tr style=\"text-align: right;\">\n",
       "      <th></th>\n",
       "      <th>BeneID</th>\n",
       "      <th>ClaimID</th>\n",
       "      <th>Provider</th>\n",
       "      <th>InscClaimAmtReimbursed</th>\n",
       "      <th>AttendingPhysician</th>\n",
       "      <th>OperatingPhysician</th>\n",
       "      <th>OtherPhysician</th>\n",
       "      <th>AdmissionDt</th>\n",
       "      <th>ClmAdmitDiagnosisCode</th>\n",
       "      <th>DeductibleAmtPaid</th>\n",
       "      <th>DischargeDt</th>\n",
       "      <th>DiagnosisGroupCode</th>\n",
       "      <th>ClmDiagnosisCode_1</th>\n",
       "      <th>ClmDiagnosisCode_2</th>\n",
       "      <th>ClmDiagnosisCode_3</th>\n",
       "      <th>ClmDiagnosisCode_4</th>\n",
       "      <th>ClmDiagnosisCode_5</th>\n",
       "      <th>ClmDiagnosisCode_6</th>\n",
       "      <th>ClmDiagnosisCode_7</th>\n",
       "      <th>ClmDiagnosisCode_8</th>\n",
       "      <th>ClmDiagnosisCode_9</th>\n",
       "      <th>ClmDiagnosisCode_10</th>\n",
       "      <th>ClmProcedureCode_1</th>\n",
       "      <th>ClmProcedureCode_2</th>\n",
       "      <th>ClmProcedureCode_3</th>\n",
       "      <th>ClmProcedureCode_4</th>\n",
       "      <th>ClmProcedureCode_5</th>\n",
       "      <th>ClmProcedureCode_6</th>\n",
       "      <th>DOB</th>\n",
       "      <th>DOD</th>\n",
       "      <th>Gender</th>\n",
       "      <th>Race</th>\n",
       "      <th>RenalDiseaseIndicator</th>\n",
       "      <th>State</th>\n",
       "      <th>County</th>\n",
       "      <th>NoOfMonths_PartACov</th>\n",
       "      <th>NoOfMonths_PartBCov</th>\n",
       "      <th>ChronicCond_Alzheimer</th>\n",
       "      <th>ChronicCond_Heartfailure</th>\n",
       "      <th>ChronicCond_KidneyDisease</th>\n",
       "      <th>ChronicCond_Cancer</th>\n",
       "      <th>ChronicCond_ObstrPulmonary</th>\n",
       "      <th>ChronicCond_Depression</th>\n",
       "      <th>ChronicCond_Diabetes</th>\n",
       "      <th>ChronicCond_IschemicHeart</th>\n",
       "      <th>ChronicCond_Osteoporasis</th>\n",
       "      <th>ChronicCond_rheumatoidarthritis</th>\n",
       "      <th>ChronicCond_stroke</th>\n",
       "      <th>IPAnnualReimbursementAmt</th>\n",
       "      <th>IPAnnualDeductibleAmt</th>\n",
       "      <th>OPAnnualReimbursementAmt</th>\n",
       "      <th>OPAnnualDeductibleAmt</th>\n",
       "      <th>PotentialFraud</th>\n",
       "      <th>numberofdoctor</th>\n",
       "      <th>uniquenumberofdoctor</th>\n",
       "      <th>fraudstate</th>\n",
       "      <th>fraudcountry</th>\n",
       "      <th>isadmitted</th>\n",
       "      <th>isdischarge</th>\n",
       "      <th>admitteddays</th>\n",
       "      <th>totaldiagnosiscode</th>\n",
       "      <th>totalproceduralcode</th>\n",
       "      <th>difference</th>\n",
       "      <th>isductable</th>\n",
       "      <th>issamecode</th>\n",
       "      <th>suffering</th>\n",
       "      <th>claimtime</th>\n",
       "      <th>Age</th>\n",
       "      <th>moneygot</th>\n",
       "      <th>moneygotIP</th>\n",
       "      <th>moneygotOP</th>\n",
       "    </tr>\n",
       "  </thead>\n",
       "  <tbody>\n",
       "    <tr>\n",
       "      <th>0</th>\n",
       "      <td>BENE11001</td>\n",
       "      <td>CLM46614</td>\n",
       "      <td>PRV55912</td>\n",
       "      <td>26000</td>\n",
       "      <td>PHY390922</td>\n",
       "      <td>0</td>\n",
       "      <td>0</td>\n",
       "      <td>2009-04-12</td>\n",
       "      <td>7866</td>\n",
       "      <td>1068.0</td>\n",
       "      <td>2009-04-18</td>\n",
       "      <td>201</td>\n",
       "      <td>1</td>\n",
       "      <td>1</td>\n",
       "      <td>1</td>\n",
       "      <td>1</td>\n",
       "      <td>1</td>\n",
       "      <td>1</td>\n",
       "      <td>1</td>\n",
       "      <td>1</td>\n",
       "      <td>1</td>\n",
       "      <td>0</td>\n",
       "      <td>0</td>\n",
       "      <td>0</td>\n",
       "      <td>0</td>\n",
       "      <td>0</td>\n",
       "      <td>0</td>\n",
       "      <td>0</td>\n",
       "      <td>1943-01-01</td>\n",
       "      <td>2021-05-19</td>\n",
       "      <td>1</td>\n",
       "      <td>1</td>\n",
       "      <td>0</td>\n",
       "      <td>39</td>\n",
       "      <td>230</td>\n",
       "      <td>12</td>\n",
       "      <td>12</td>\n",
       "      <td>1</td>\n",
       "      <td>0</td>\n",
       "      <td>1</td>\n",
       "      <td>0</td>\n",
       "      <td>0</td>\n",
       "      <td>1</td>\n",
       "      <td>1</td>\n",
       "      <td>1</td>\n",
       "      <td>0</td>\n",
       "      <td>1</td>\n",
       "      <td>1</td>\n",
       "      <td>36000</td>\n",
       "      <td>3204</td>\n",
       "      <td>60</td>\n",
       "      <td>70</td>\n",
       "      <td>Yes</td>\n",
       "      <td>[PHY390922]</td>\n",
       "      <td>1</td>\n",
       "      <td>1</td>\n",
       "      <td>0</td>\n",
       "      <td>1</td>\n",
       "      <td>1</td>\n",
       "      <td>6</td>\n",
       "      <td>9</td>\n",
       "      <td>0</td>\n",
       "      <td>9</td>\n",
       "      <td>1</td>\n",
       "      <td>0</td>\n",
       "      <td>7</td>\n",
       "      <td>6</td>\n",
       "      <td>78.0</td>\n",
       "      <td>24932.0</td>\n",
       "      <td>32796</td>\n",
       "      <td>-10</td>\n",
       "    </tr>\n",
       "    <tr>\n",
       "      <th>1</th>\n",
       "      <td>BENE16973</td>\n",
       "      <td>CLM565430</td>\n",
       "      <td>PRV55912</td>\n",
       "      <td>50</td>\n",
       "      <td>PHY365867</td>\n",
       "      <td>PHY327147</td>\n",
       "      <td>0</td>\n",
       "      <td>1970-01-01</td>\n",
       "      <td>0</td>\n",
       "      <td>0.0</td>\n",
       "      <td>1970-01-01</td>\n",
       "      <td>0</td>\n",
       "      <td>1</td>\n",
       "      <td>1</td>\n",
       "      <td>1</td>\n",
       "      <td>1</td>\n",
       "      <td>1</td>\n",
       "      <td>1</td>\n",
       "      <td>1</td>\n",
       "      <td>1</td>\n",
       "      <td>1</td>\n",
       "      <td>0</td>\n",
       "      <td>0</td>\n",
       "      <td>0</td>\n",
       "      <td>0</td>\n",
       "      <td>0</td>\n",
       "      <td>0</td>\n",
       "      <td>0</td>\n",
       "      <td>1932-05-01</td>\n",
       "      <td>2021-05-19</td>\n",
       "      <td>1</td>\n",
       "      <td>1</td>\n",
       "      <td>0</td>\n",
       "      <td>39</td>\n",
       "      <td>310</td>\n",
       "      <td>12</td>\n",
       "      <td>12</td>\n",
       "      <td>1</td>\n",
       "      <td>1</td>\n",
       "      <td>1</td>\n",
       "      <td>0</td>\n",
       "      <td>0</td>\n",
       "      <td>0</td>\n",
       "      <td>0</td>\n",
       "      <td>1</td>\n",
       "      <td>0</td>\n",
       "      <td>0</td>\n",
       "      <td>0</td>\n",
       "      <td>24000</td>\n",
       "      <td>2136</td>\n",
       "      <td>450</td>\n",
       "      <td>200</td>\n",
       "      <td>Yes</td>\n",
       "      <td>[PHY365867, PHY327147]</td>\n",
       "      <td>2</td>\n",
       "      <td>1</td>\n",
       "      <td>0</td>\n",
       "      <td>0</td>\n",
       "      <td>0</td>\n",
       "      <td>0</td>\n",
       "      <td>9</td>\n",
       "      <td>0</td>\n",
       "      <td>9</td>\n",
       "      <td>0</td>\n",
       "      <td>1</td>\n",
       "      <td>4</td>\n",
       "      <td>0</td>\n",
       "      <td>89.0</td>\n",
       "      <td>50.0</td>\n",
       "      <td>21864</td>\n",
       "      <td>250</td>\n",
       "    </tr>\n",
       "    <tr>\n",
       "      <th>2</th>\n",
       "      <td>BENE17521</td>\n",
       "      <td>CLM34721</td>\n",
       "      <td>PRV55912</td>\n",
       "      <td>19000</td>\n",
       "      <td>PHY349293</td>\n",
       "      <td>PHY370861</td>\n",
       "      <td>PHY363291</td>\n",
       "      <td>2009-01-20</td>\n",
       "      <td>45340</td>\n",
       "      <td>1068.0</td>\n",
       "      <td>2009-02-01</td>\n",
       "      <td>987</td>\n",
       "      <td>1</td>\n",
       "      <td>1</td>\n",
       "      <td>1</td>\n",
       "      <td>1</td>\n",
       "      <td>1</td>\n",
       "      <td>1</td>\n",
       "      <td>1</td>\n",
       "      <td>1</td>\n",
       "      <td>1</td>\n",
       "      <td>0</td>\n",
       "      <td>1</td>\n",
       "      <td>1</td>\n",
       "      <td>0</td>\n",
       "      <td>0</td>\n",
       "      <td>0</td>\n",
       "      <td>0</td>\n",
       "      <td>1913-12-01</td>\n",
       "      <td>2021-05-19</td>\n",
       "      <td>2</td>\n",
       "      <td>1</td>\n",
       "      <td>0</td>\n",
       "      <td>39</td>\n",
       "      <td>230</td>\n",
       "      <td>12</td>\n",
       "      <td>12</td>\n",
       "      <td>1</td>\n",
       "      <td>1</td>\n",
       "      <td>1</td>\n",
       "      <td>0</td>\n",
       "      <td>1</td>\n",
       "      <td>0</td>\n",
       "      <td>0</td>\n",
       "      <td>1</td>\n",
       "      <td>0</td>\n",
       "      <td>0</td>\n",
       "      <td>0</td>\n",
       "      <td>19000</td>\n",
       "      <td>1068</td>\n",
       "      <td>100</td>\n",
       "      <td>20</td>\n",
       "      <td>Yes</td>\n",
       "      <td>[PHY349293, PHY370861, PHY363291]</td>\n",
       "      <td>3</td>\n",
       "      <td>1</td>\n",
       "      <td>0</td>\n",
       "      <td>1</td>\n",
       "      <td>1</td>\n",
       "      <td>12</td>\n",
       "      <td>9</td>\n",
       "      <td>2</td>\n",
       "      <td>7</td>\n",
       "      <td>1</td>\n",
       "      <td>0</td>\n",
       "      <td>5</td>\n",
       "      <td>12</td>\n",
       "      <td>108.0</td>\n",
       "      <td>17932.0</td>\n",
       "      <td>17932</td>\n",
       "      <td>80</td>\n",
       "    </tr>\n",
       "    <tr>\n",
       "      <th>3</th>\n",
       "      <td>BENE21718</td>\n",
       "      <td>CLM72336</td>\n",
       "      <td>PRV55912</td>\n",
       "      <td>17000</td>\n",
       "      <td>PHY334706</td>\n",
       "      <td>PHY334706</td>\n",
       "      <td>0</td>\n",
       "      <td>2009-10-17</td>\n",
       "      <td>V5789</td>\n",
       "      <td>1068.0</td>\n",
       "      <td>2009-11-04</td>\n",
       "      <td>941</td>\n",
       "      <td>1</td>\n",
       "      <td>1</td>\n",
       "      <td>1</td>\n",
       "      <td>1</td>\n",
       "      <td>1</td>\n",
       "      <td>1</td>\n",
       "      <td>1</td>\n",
       "      <td>1</td>\n",
       "      <td>1</td>\n",
       "      <td>0</td>\n",
       "      <td>1</td>\n",
       "      <td>0</td>\n",
       "      <td>0</td>\n",
       "      <td>0</td>\n",
       "      <td>0</td>\n",
       "      <td>0</td>\n",
       "      <td>1922-10-01</td>\n",
       "      <td>2021-05-19</td>\n",
       "      <td>1</td>\n",
       "      <td>1</td>\n",
       "      <td>0</td>\n",
       "      <td>39</td>\n",
       "      <td>600</td>\n",
       "      <td>12</td>\n",
       "      <td>12</td>\n",
       "      <td>0</td>\n",
       "      <td>0</td>\n",
       "      <td>0</td>\n",
       "      <td>0</td>\n",
       "      <td>0</td>\n",
       "      <td>0</td>\n",
       "      <td>0</td>\n",
       "      <td>1</td>\n",
       "      <td>1</td>\n",
       "      <td>0</td>\n",
       "      <td>0</td>\n",
       "      <td>17000</td>\n",
       "      <td>1068</td>\n",
       "      <td>1050</td>\n",
       "      <td>540</td>\n",
       "      <td>Yes</td>\n",
       "      <td>[PHY334706]</td>\n",
       "      <td>1</td>\n",
       "      <td>1</td>\n",
       "      <td>0</td>\n",
       "      <td>1</td>\n",
       "      <td>1</td>\n",
       "      <td>18</td>\n",
       "      <td>9</td>\n",
       "      <td>1</td>\n",
       "      <td>8</td>\n",
       "      <td>1</td>\n",
       "      <td>0</td>\n",
       "      <td>2</td>\n",
       "      <td>18</td>\n",
       "      <td>99.0</td>\n",
       "      <td>15932.0</td>\n",
       "      <td>15932</td>\n",
       "      <td>510</td>\n",
       "    </tr>\n",
       "    <tr>\n",
       "      <th>4</th>\n",
       "      <td>BENE22934</td>\n",
       "      <td>CLM73394</td>\n",
       "      <td>PRV55912</td>\n",
       "      <td>13000</td>\n",
       "      <td>PHY390614</td>\n",
       "      <td>PHY323689</td>\n",
       "      <td>PHY363291</td>\n",
       "      <td>2009-10-25</td>\n",
       "      <td>71946</td>\n",
       "      <td>1068.0</td>\n",
       "      <td>2009-10-29</td>\n",
       "      <td>506</td>\n",
       "      <td>1</td>\n",
       "      <td>1</td>\n",
       "      <td>1</td>\n",
       "      <td>1</td>\n",
       "      <td>1</td>\n",
       "      <td>1</td>\n",
       "      <td>1</td>\n",
       "      <td>0</td>\n",
       "      <td>0</td>\n",
       "      <td>0</td>\n",
       "      <td>1</td>\n",
       "      <td>0</td>\n",
       "      <td>0</td>\n",
       "      <td>0</td>\n",
       "      <td>0</td>\n",
       "      <td>0</td>\n",
       "      <td>1930-07-01</td>\n",
       "      <td>2021-05-19</td>\n",
       "      <td>2</td>\n",
       "      <td>1</td>\n",
       "      <td>0</td>\n",
       "      <td>39</td>\n",
       "      <td>280</td>\n",
       "      <td>12</td>\n",
       "      <td>12</td>\n",
       "      <td>0</td>\n",
       "      <td>1</td>\n",
       "      <td>0</td>\n",
       "      <td>0</td>\n",
       "      <td>1</td>\n",
       "      <td>0</td>\n",
       "      <td>1</td>\n",
       "      <td>1</td>\n",
       "      <td>1</td>\n",
       "      <td>1</td>\n",
       "      <td>0</td>\n",
       "      <td>27000</td>\n",
       "      <td>2136</td>\n",
       "      <td>450</td>\n",
       "      <td>160</td>\n",
       "      <td>Yes</td>\n",
       "      <td>[PHY390614, PHY323689, PHY363291]</td>\n",
       "      <td>3</td>\n",
       "      <td>1</td>\n",
       "      <td>0</td>\n",
       "      <td>1</td>\n",
       "      <td>1</td>\n",
       "      <td>4</td>\n",
       "      <td>7</td>\n",
       "      <td>1</td>\n",
       "      <td>6</td>\n",
       "      <td>1</td>\n",
       "      <td>0</td>\n",
       "      <td>6</td>\n",
       "      <td>4</td>\n",
       "      <td>91.0</td>\n",
       "      <td>11932.0</td>\n",
       "      <td>24864</td>\n",
       "      <td>290</td>\n",
       "    </tr>\n",
       "    <tr>\n",
       "      <th>...</th>\n",
       "      <td>...</td>\n",
       "      <td>...</td>\n",
       "      <td>...</td>\n",
       "      <td>...</td>\n",
       "      <td>...</td>\n",
       "      <td>...</td>\n",
       "      <td>...</td>\n",
       "      <td>...</td>\n",
       "      <td>...</td>\n",
       "      <td>...</td>\n",
       "      <td>...</td>\n",
       "      <td>...</td>\n",
       "      <td>...</td>\n",
       "      <td>...</td>\n",
       "      <td>...</td>\n",
       "      <td>...</td>\n",
       "      <td>...</td>\n",
       "      <td>...</td>\n",
       "      <td>...</td>\n",
       "      <td>...</td>\n",
       "      <td>...</td>\n",
       "      <td>...</td>\n",
       "      <td>...</td>\n",
       "      <td>...</td>\n",
       "      <td>...</td>\n",
       "      <td>...</td>\n",
       "      <td>...</td>\n",
       "      <td>...</td>\n",
       "      <td>...</td>\n",
       "      <td>...</td>\n",
       "      <td>...</td>\n",
       "      <td>...</td>\n",
       "      <td>...</td>\n",
       "      <td>...</td>\n",
       "      <td>...</td>\n",
       "      <td>...</td>\n",
       "      <td>...</td>\n",
       "      <td>...</td>\n",
       "      <td>...</td>\n",
       "      <td>...</td>\n",
       "      <td>...</td>\n",
       "      <td>...</td>\n",
       "      <td>...</td>\n",
       "      <td>...</td>\n",
       "      <td>...</td>\n",
       "      <td>...</td>\n",
       "      <td>...</td>\n",
       "      <td>...</td>\n",
       "      <td>...</td>\n",
       "      <td>...</td>\n",
       "      <td>...</td>\n",
       "      <td>...</td>\n",
       "      <td>...</td>\n",
       "      <td>...</td>\n",
       "      <td>...</td>\n",
       "      <td>...</td>\n",
       "      <td>...</td>\n",
       "      <td>...</td>\n",
       "      <td>...</td>\n",
       "      <td>...</td>\n",
       "      <td>...</td>\n",
       "      <td>...</td>\n",
       "      <td>...</td>\n",
       "      <td>...</td>\n",
       "      <td>...</td>\n",
       "      <td>...</td>\n",
       "      <td>...</td>\n",
       "      <td>...</td>\n",
       "      <td>...</td>\n",
       "      <td>...</td>\n",
       "      <td>...</td>\n",
       "    </tr>\n",
       "    <tr>\n",
       "      <th>558206</th>\n",
       "      <td>BENE154147</td>\n",
       "      <td>CLM394122</td>\n",
       "      <td>PRV54050</td>\n",
       "      <td>500</td>\n",
       "      <td>PHY317497</td>\n",
       "      <td>0</td>\n",
       "      <td>PHY317497</td>\n",
       "      <td>1970-01-01</td>\n",
       "      <td>0</td>\n",
       "      <td>0.0</td>\n",
       "      <td>1970-01-01</td>\n",
       "      <td>0</td>\n",
       "      <td>1</td>\n",
       "      <td>1</td>\n",
       "      <td>1</td>\n",
       "      <td>0</td>\n",
       "      <td>0</td>\n",
       "      <td>0</td>\n",
       "      <td>0</td>\n",
       "      <td>0</td>\n",
       "      <td>0</td>\n",
       "      <td>0</td>\n",
       "      <td>0</td>\n",
       "      <td>0</td>\n",
       "      <td>0</td>\n",
       "      <td>0</td>\n",
       "      <td>0</td>\n",
       "      <td>0</td>\n",
       "      <td>1925-01-01</td>\n",
       "      <td>2021-05-19</td>\n",
       "      <td>2</td>\n",
       "      <td>1</td>\n",
       "      <td>0</td>\n",
       "      <td>23</td>\n",
       "      <td>400</td>\n",
       "      <td>12</td>\n",
       "      <td>12</td>\n",
       "      <td>0</td>\n",
       "      <td>0</td>\n",
       "      <td>0</td>\n",
       "      <td>0</td>\n",
       "      <td>0</td>\n",
       "      <td>0</td>\n",
       "      <td>0</td>\n",
       "      <td>1</td>\n",
       "      <td>1</td>\n",
       "      <td>0</td>\n",
       "      <td>0</td>\n",
       "      <td>0</td>\n",
       "      <td>0</td>\n",
       "      <td>890</td>\n",
       "      <td>120</td>\n",
       "      <td>No</td>\n",
       "      <td>[PHY317497]</td>\n",
       "      <td>1</td>\n",
       "      <td>1</td>\n",
       "      <td>1</td>\n",
       "      <td>0</td>\n",
       "      <td>0</td>\n",
       "      <td>0</td>\n",
       "      <td>3</td>\n",
       "      <td>0</td>\n",
       "      <td>3</td>\n",
       "      <td>0</td>\n",
       "      <td>1</td>\n",
       "      <td>2</td>\n",
       "      <td>2</td>\n",
       "      <td>96.0</td>\n",
       "      <td>500.0</td>\n",
       "      <td>0</td>\n",
       "      <td>770</td>\n",
       "    </tr>\n",
       "    <tr>\n",
       "      <th>558207</th>\n",
       "      <td>BENE154687</td>\n",
       "      <td>CLM184358</td>\n",
       "      <td>PRV54302</td>\n",
       "      <td>3300</td>\n",
       "      <td>PHY376238</td>\n",
       "      <td>PHY376238</td>\n",
       "      <td>0</td>\n",
       "      <td>1970-01-01</td>\n",
       "      <td>99639</td>\n",
       "      <td>0.0</td>\n",
       "      <td>1970-01-01</td>\n",
       "      <td>0</td>\n",
       "      <td>1</td>\n",
       "      <td>0</td>\n",
       "      <td>0</td>\n",
       "      <td>0</td>\n",
       "      <td>0</td>\n",
       "      <td>0</td>\n",
       "      <td>0</td>\n",
       "      <td>0</td>\n",
       "      <td>0</td>\n",
       "      <td>0</td>\n",
       "      <td>0</td>\n",
       "      <td>0</td>\n",
       "      <td>0</td>\n",
       "      <td>0</td>\n",
       "      <td>0</td>\n",
       "      <td>0</td>\n",
       "      <td>1927-05-01</td>\n",
       "      <td>2021-05-19</td>\n",
       "      <td>1</td>\n",
       "      <td>2</td>\n",
       "      <td>0</td>\n",
       "      <td>25</td>\n",
       "      <td>150</td>\n",
       "      <td>12</td>\n",
       "      <td>12</td>\n",
       "      <td>1</td>\n",
       "      <td>0</td>\n",
       "      <td>1</td>\n",
       "      <td>0</td>\n",
       "      <td>0</td>\n",
       "      <td>0</td>\n",
       "      <td>1</td>\n",
       "      <td>1</td>\n",
       "      <td>0</td>\n",
       "      <td>1</td>\n",
       "      <td>0</td>\n",
       "      <td>0</td>\n",
       "      <td>0</td>\n",
       "      <td>4400</td>\n",
       "      <td>220</td>\n",
       "      <td>No</td>\n",
       "      <td>[PHY376238]</td>\n",
       "      <td>1</td>\n",
       "      <td>0</td>\n",
       "      <td>1</td>\n",
       "      <td>0</td>\n",
       "      <td>0</td>\n",
       "      <td>0</td>\n",
       "      <td>1</td>\n",
       "      <td>0</td>\n",
       "      <td>1</td>\n",
       "      <td>0</td>\n",
       "      <td>0</td>\n",
       "      <td>5</td>\n",
       "      <td>0</td>\n",
       "      <td>94.0</td>\n",
       "      <td>3300.0</td>\n",
       "      <td>0</td>\n",
       "      <td>4180</td>\n",
       "    </tr>\n",
       "    <tr>\n",
       "      <th>558208</th>\n",
       "      <td>BENE157378</td>\n",
       "      <td>CLM460770</td>\n",
       "      <td>PRV51577</td>\n",
       "      <td>2100</td>\n",
       "      <td>PHY338096</td>\n",
       "      <td>0</td>\n",
       "      <td>0</td>\n",
       "      <td>1970-01-01</td>\n",
       "      <td>0</td>\n",
       "      <td>0.0</td>\n",
       "      <td>1970-01-01</td>\n",
       "      <td>0</td>\n",
       "      <td>1</td>\n",
       "      <td>1</td>\n",
       "      <td>0</td>\n",
       "      <td>0</td>\n",
       "      <td>0</td>\n",
       "      <td>0</td>\n",
       "      <td>0</td>\n",
       "      <td>0</td>\n",
       "      <td>0</td>\n",
       "      <td>0</td>\n",
       "      <td>0</td>\n",
       "      <td>0</td>\n",
       "      <td>0</td>\n",
       "      <td>0</td>\n",
       "      <td>0</td>\n",
       "      <td>0</td>\n",
       "      <td>1946-06-01</td>\n",
       "      <td>2021-05-19</td>\n",
       "      <td>2</td>\n",
       "      <td>1</td>\n",
       "      <td>1</td>\n",
       "      <td>5</td>\n",
       "      <td>200</td>\n",
       "      <td>12</td>\n",
       "      <td>12</td>\n",
       "      <td>1</td>\n",
       "      <td>1</td>\n",
       "      <td>1</td>\n",
       "      <td>0</td>\n",
       "      <td>1</td>\n",
       "      <td>0</td>\n",
       "      <td>1</td>\n",
       "      <td>1</td>\n",
       "      <td>0</td>\n",
       "      <td>0</td>\n",
       "      <td>0</td>\n",
       "      <td>0</td>\n",
       "      <td>0</td>\n",
       "      <td>14240</td>\n",
       "      <td>2810</td>\n",
       "      <td>No</td>\n",
       "      <td>[PHY338096]</td>\n",
       "      <td>1</td>\n",
       "      <td>1</td>\n",
       "      <td>1</td>\n",
       "      <td>0</td>\n",
       "      <td>0</td>\n",
       "      <td>0</td>\n",
       "      <td>2</td>\n",
       "      <td>0</td>\n",
       "      <td>2</td>\n",
       "      <td>0</td>\n",
       "      <td>1</td>\n",
       "      <td>6</td>\n",
       "      <td>20</td>\n",
       "      <td>75.0</td>\n",
       "      <td>2100.0</td>\n",
       "      <td>0</td>\n",
       "      <td>11430</td>\n",
       "    </tr>\n",
       "    <tr>\n",
       "      <th>558209</th>\n",
       "      <td>BENE158295</td>\n",
       "      <td>CLM306999</td>\n",
       "      <td>PRV53083</td>\n",
       "      <td>10</td>\n",
       "      <td>PHY416646</td>\n",
       "      <td>0</td>\n",
       "      <td>0</td>\n",
       "      <td>1970-01-01</td>\n",
       "      <td>0</td>\n",
       "      <td>0.0</td>\n",
       "      <td>1970-01-01</td>\n",
       "      <td>0</td>\n",
       "      <td>1</td>\n",
       "      <td>0</td>\n",
       "      <td>0</td>\n",
       "      <td>0</td>\n",
       "      <td>0</td>\n",
       "      <td>0</td>\n",
       "      <td>0</td>\n",
       "      <td>0</td>\n",
       "      <td>0</td>\n",
       "      <td>0</td>\n",
       "      <td>0</td>\n",
       "      <td>0</td>\n",
       "      <td>0</td>\n",
       "      <td>0</td>\n",
       "      <td>0</td>\n",
       "      <td>0</td>\n",
       "      <td>1924-08-01</td>\n",
       "      <td>2021-05-19</td>\n",
       "      <td>2</td>\n",
       "      <td>1</td>\n",
       "      <td>0</td>\n",
       "      <td>16</td>\n",
       "      <td>490</td>\n",
       "      <td>12</td>\n",
       "      <td>12</td>\n",
       "      <td>0</td>\n",
       "      <td>1</td>\n",
       "      <td>1</td>\n",
       "      <td>1</td>\n",
       "      <td>1</td>\n",
       "      <td>1</td>\n",
       "      <td>1</td>\n",
       "      <td>1</td>\n",
       "      <td>1</td>\n",
       "      <td>1</td>\n",
       "      <td>0</td>\n",
       "      <td>0</td>\n",
       "      <td>0</td>\n",
       "      <td>640</td>\n",
       "      <td>350</td>\n",
       "      <td>No</td>\n",
       "      <td>[PHY416646]</td>\n",
       "      <td>1</td>\n",
       "      <td>0</td>\n",
       "      <td>1</td>\n",
       "      <td>0</td>\n",
       "      <td>0</td>\n",
       "      <td>0</td>\n",
       "      <td>1</td>\n",
       "      <td>0</td>\n",
       "      <td>1</td>\n",
       "      <td>0</td>\n",
       "      <td>1</td>\n",
       "      <td>9</td>\n",
       "      <td>0</td>\n",
       "      <td>97.0</td>\n",
       "      <td>10.0</td>\n",
       "      <td>0</td>\n",
       "      <td>290</td>\n",
       "    </tr>\n",
       "    <tr>\n",
       "      <th>558210</th>\n",
       "      <td>BENE158736</td>\n",
       "      <td>CLM589654</td>\n",
       "      <td>PRV56377</td>\n",
       "      <td>60</td>\n",
       "      <td>PHY392440</td>\n",
       "      <td>0</td>\n",
       "      <td>PHY392440</td>\n",
       "      <td>1970-01-01</td>\n",
       "      <td>0</td>\n",
       "      <td>0.0</td>\n",
       "      <td>1970-01-01</td>\n",
       "      <td>0</td>\n",
       "      <td>1</td>\n",
       "      <td>1</td>\n",
       "      <td>1</td>\n",
       "      <td>1</td>\n",
       "      <td>0</td>\n",
       "      <td>0</td>\n",
       "      <td>0</td>\n",
       "      <td>0</td>\n",
       "      <td>0</td>\n",
       "      <td>0</td>\n",
       "      <td>0</td>\n",
       "      <td>0</td>\n",
       "      <td>0</td>\n",
       "      <td>0</td>\n",
       "      <td>0</td>\n",
       "      <td>0</td>\n",
       "      <td>1943-08-01</td>\n",
       "      <td>2021-05-19</td>\n",
       "      <td>2</td>\n",
       "      <td>1</td>\n",
       "      <td>0</td>\n",
       "      <td>43</td>\n",
       "      <td>170</td>\n",
       "      <td>12</td>\n",
       "      <td>12</td>\n",
       "      <td>0</td>\n",
       "      <td>0</td>\n",
       "      <td>0</td>\n",
       "      <td>1</td>\n",
       "      <td>0</td>\n",
       "      <td>0</td>\n",
       "      <td>1</td>\n",
       "      <td>1</td>\n",
       "      <td>1</td>\n",
       "      <td>1</td>\n",
       "      <td>1</td>\n",
       "      <td>0</td>\n",
       "      <td>0</td>\n",
       "      <td>3220</td>\n",
       "      <td>1270</td>\n",
       "      <td>No</td>\n",
       "      <td>[PHY392440]</td>\n",
       "      <td>1</td>\n",
       "      <td>0</td>\n",
       "      <td>1</td>\n",
       "      <td>0</td>\n",
       "      <td>0</td>\n",
       "      <td>0</td>\n",
       "      <td>4</td>\n",
       "      <td>0</td>\n",
       "      <td>4</td>\n",
       "      <td>0</td>\n",
       "      <td>1</td>\n",
       "      <td>6</td>\n",
       "      <td>0</td>\n",
       "      <td>78.0</td>\n",
       "      <td>60.0</td>\n",
       "      <td>0</td>\n",
       "      <td>1950</td>\n",
       "    </tr>\n",
       "  </tbody>\n",
       "</table>\n",
       "<p>558211 rows × 71 columns</p>\n",
       "</div>"
      ],
      "text/plain": [
       "            BeneID    ClaimID  Provider  ...  moneygot moneygotIP moneygotOP\n",
       "0        BENE11001   CLM46614  PRV55912  ...   24932.0      32796        -10\n",
       "1        BENE16973  CLM565430  PRV55912  ...      50.0      21864        250\n",
       "2        BENE17521   CLM34721  PRV55912  ...   17932.0      17932         80\n",
       "3        BENE21718   CLM72336  PRV55912  ...   15932.0      15932        510\n",
       "4        BENE22934   CLM73394  PRV55912  ...   11932.0      24864        290\n",
       "...            ...        ...       ...  ...       ...        ...        ...\n",
       "558206  BENE154147  CLM394122  PRV54050  ...     500.0          0        770\n",
       "558207  BENE154687  CLM184358  PRV54302  ...    3300.0          0       4180\n",
       "558208  BENE157378  CLM460770  PRV51577  ...    2100.0          0      11430\n",
       "558209  BENE158295  CLM306999  PRV53083  ...      10.0          0        290\n",
       "558210  BENE158736  CLM589654  PRV56377  ...      60.0          0       1950\n",
       "\n",
       "[558211 rows x 71 columns]"
      ]
     },
     "execution_count": 68,
     "metadata": {
      "tags": []
     },
     "output_type": "execute_result"
    }
   ],
   "source": [
    "fraud_provider_ip_df"
   ]
  },
  {
   "cell_type": "code",
   "execution_count": null,
   "metadata": {
    "colab": {
     "base_uri": "https://localhost:8080/"
    },
    "executionInfo": {
     "elapsed": 3551,
     "status": "ok",
     "timestamp": 1621421464937,
     "user": {
      "displayName": "SAYAN KUNDU",
      "photoUrl": "",
      "userId": "02417134633143582297"
     },
     "user_tz": -330
    },
    "id": "TyHjY55HynZ_",
    "outputId": "3b1a116a-339d-464e-d9eb-d9da131a6989"
   },
   "outputs": [
    {
     "data": {
      "text/plain": [
       "Index(['BeneID', 'ClaimID', 'Provider', 'InscClaimAmtReimbursed',\n",
       "       'AttendingPhysician', 'OperatingPhysician', 'OtherPhysician',\n",
       "       'AdmissionDt', 'ClmAdmitDiagnosisCode', 'DeductibleAmtPaid',\n",
       "       'DischargeDt', 'DiagnosisGroupCode', 'ClmDiagnosisCode_1',\n",
       "       'ClmDiagnosisCode_2', 'ClmDiagnosisCode_3', 'ClmDiagnosisCode_4',\n",
       "       'ClmDiagnosisCode_5', 'ClmDiagnosisCode_6', 'ClmDiagnosisCode_7',\n",
       "       'ClmDiagnosisCode_8', 'ClmDiagnosisCode_9', 'ClmDiagnosisCode_10',\n",
       "       'ClmProcedureCode_1', 'ClmProcedureCode_2', 'ClmProcedureCode_3',\n",
       "       'ClmProcedureCode_4', 'ClmProcedureCode_5', 'ClmProcedureCode_6', 'DOB',\n",
       "       'DOD', 'Gender', 'Race', 'RenalDiseaseIndicator', 'State', 'County',\n",
       "       'NoOfMonths_PartACov', 'NoOfMonths_PartBCov', 'ChronicCond_Alzheimer',\n",
       "       'ChronicCond_Heartfailure', 'ChronicCond_KidneyDisease',\n",
       "       'ChronicCond_Cancer', 'ChronicCond_ObstrPulmonary',\n",
       "       'ChronicCond_Depression', 'ChronicCond_Diabetes',\n",
       "       'ChronicCond_IschemicHeart', 'ChronicCond_Osteoporasis',\n",
       "       'ChronicCond_rheumatoidarthritis', 'ChronicCond_stroke',\n",
       "       'IPAnnualReimbursementAmt', 'IPAnnualDeductibleAmt',\n",
       "       'OPAnnualReimbursementAmt', 'OPAnnualDeductibleAmt', 'PotentialFraud',\n",
       "       'numberofdoctor', 'uniquenumberofdoctor', 'fraudstate', 'fraudcountry',\n",
       "       'isadmitted', 'isdischarge', 'admitteddays', 'totaldiagnosiscode',\n",
       "       'totalproceduralcode', 'difference', 'isductable', 'issamecode',\n",
       "       'suffering', 'claimtime', 'Age', 'moneygot', 'moneygotIP',\n",
       "       'moneygotOP'],\n",
       "      dtype='object')"
      ]
     },
     "execution_count": 69,
     "metadata": {
      "tags": []
     },
     "output_type": "execute_result"
    }
   ],
   "source": [
    "fraud_provider_ip_df.columns"
   ]
  },
  {
   "cell_type": "code",
   "execution_count": null,
   "metadata": {
    "id": "Y6C7E4e4ynaA"
   },
   "outputs": [],
   "source": [
    "Train_Count = fraud_provider_ip_df[['BeneID', 'ClaimID']].groupby(fraud_provider_ip_df['Provider']).nunique().reset_index()"
   ]
  },
  {
   "cell_type": "code",
   "execution_count": null,
   "metadata": {
    "id": "s6XHuBjnynaB"
   },
   "outputs": [],
   "source": [
    "Train_sum=fraud_provider_ip_df.groupby(['Provider'], as_index = False)[['ClmDiagnosisCode_1',\n",
    "       'ClmDiagnosisCode_2', 'ClmDiagnosisCode_3', 'ClmDiagnosisCode_4',\n",
    "       'ClmDiagnosisCode_5', 'ClmDiagnosisCode_6', 'ClmDiagnosisCode_7',\n",
    "       'ClmDiagnosisCode_8', 'ClmDiagnosisCode_9', 'ClmDiagnosisCode_10',\n",
    "       'ClmProcedureCode_1', 'ClmProcedureCode_2', 'ClmProcedureCode_3',\n",
    "       'ClmProcedureCode_4', 'ClmProcedureCode_5', 'ClmProcedureCode_6', 'fraudstate', 'fraudcountry','isductable', 'issamecode','isadmitted', 'isdischarge']].sum()\n"
   ]
  },
  {
   "cell_type": "code",
   "execution_count": null,
   "metadata": {
    "colab": {
     "base_uri": "https://localhost:8080/",
     "height": 224
    },
    "executionInfo": {
     "elapsed": 1927,
     "status": "ok",
     "timestamp": 1621421467336,
     "user": {
      "displayName": "SAYAN KUNDU",
      "photoUrl": "",
      "userId": "02417134633143582297"
     },
     "user_tz": -330
    },
    "id": "IuY6gXKfynaC",
    "outputId": "ca3f48ca-953b-4b17-9ba9-c90fc1b50a35"
   },
   "outputs": [
    {
     "data": {
      "text/html": [
       "<div>\n",
       "<style scoped>\n",
       "    .dataframe tbody tr th:only-of-type {\n",
       "        vertical-align: middle;\n",
       "    }\n",
       "\n",
       "    .dataframe tbody tr th {\n",
       "        vertical-align: top;\n",
       "    }\n",
       "\n",
       "    .dataframe thead th {\n",
       "        text-align: right;\n",
       "    }\n",
       "</style>\n",
       "<table border=\"1\" class=\"dataframe\">\n",
       "  <thead>\n",
       "    <tr style=\"text-align: right;\">\n",
       "      <th></th>\n",
       "      <th>Provider</th>\n",
       "      <th>ClmDiagnosisCode_1</th>\n",
       "      <th>ClmDiagnosisCode_2</th>\n",
       "      <th>ClmDiagnosisCode_3</th>\n",
       "      <th>ClmDiagnosisCode_4</th>\n",
       "      <th>ClmDiagnosisCode_5</th>\n",
       "      <th>ClmDiagnosisCode_6</th>\n",
       "      <th>ClmDiagnosisCode_7</th>\n",
       "      <th>ClmDiagnosisCode_8</th>\n",
       "      <th>ClmDiagnosisCode_9</th>\n",
       "      <th>ClmDiagnosisCode_10</th>\n",
       "      <th>ClmProcedureCode_1</th>\n",
       "      <th>ClmProcedureCode_2</th>\n",
       "      <th>ClmProcedureCode_3</th>\n",
       "      <th>ClmProcedureCode_4</th>\n",
       "      <th>ClmProcedureCode_5</th>\n",
       "      <th>ClmProcedureCode_6</th>\n",
       "      <th>fraudstate</th>\n",
       "      <th>fraudcountry</th>\n",
       "      <th>isductable</th>\n",
       "      <th>issamecode</th>\n",
       "      <th>isadmitted</th>\n",
       "      <th>isdischarge</th>\n",
       "    </tr>\n",
       "  </thead>\n",
       "  <tbody>\n",
       "    <tr>\n",
       "      <th>0</th>\n",
       "      <td>PRV51001</td>\n",
       "      <td>24</td>\n",
       "      <td>16</td>\n",
       "      <td>10</td>\n",
       "      <td>8</td>\n",
       "      <td>8</td>\n",
       "      <td>8</td>\n",
       "      <td>3</td>\n",
       "      <td>2</td>\n",
       "      <td>1</td>\n",
       "      <td>0</td>\n",
       "      <td>2</td>\n",
       "      <td>1</td>\n",
       "      <td>0</td>\n",
       "      <td>0</td>\n",
       "      <td>0</td>\n",
       "      <td>0</td>\n",
       "      <td>0</td>\n",
       "      <td>9</td>\n",
       "      <td>5</td>\n",
       "      <td>14</td>\n",
       "      <td>5</td>\n",
       "      <td>5</td>\n",
       "    </tr>\n",
       "    <tr>\n",
       "      <th>1</th>\n",
       "      <td>PRV51003</td>\n",
       "      <td>132</td>\n",
       "      <td>112</td>\n",
       "      <td>92</td>\n",
       "      <td>78</td>\n",
       "      <td>66</td>\n",
       "      <td>58</td>\n",
       "      <td>55</td>\n",
       "      <td>50</td>\n",
       "      <td>45</td>\n",
       "      <td>5</td>\n",
       "      <td>39</td>\n",
       "      <td>9</td>\n",
       "      <td>0</td>\n",
       "      <td>0</td>\n",
       "      <td>0</td>\n",
       "      <td>0</td>\n",
       "      <td>23</td>\n",
       "      <td>27</td>\n",
       "      <td>63</td>\n",
       "      <td>54</td>\n",
       "      <td>62</td>\n",
       "      <td>62</td>\n",
       "    </tr>\n",
       "    <tr>\n",
       "      <th>2</th>\n",
       "      <td>PRV51004</td>\n",
       "      <td>143</td>\n",
       "      <td>91</td>\n",
       "      <td>56</td>\n",
       "      <td>34</td>\n",
       "      <td>24</td>\n",
       "      <td>16</td>\n",
       "      <td>9</td>\n",
       "      <td>8</td>\n",
       "      <td>4</td>\n",
       "      <td>0</td>\n",
       "      <td>0</td>\n",
       "      <td>0</td>\n",
       "      <td>0</td>\n",
       "      <td>0</td>\n",
       "      <td>0</td>\n",
       "      <td>0</td>\n",
       "      <td>53</td>\n",
       "      <td>67</td>\n",
       "      <td>7</td>\n",
       "      <td>121</td>\n",
       "      <td>0</td>\n",
       "      <td>0</td>\n",
       "    </tr>\n",
       "    <tr>\n",
       "      <th>3</th>\n",
       "      <td>PRV51005</td>\n",
       "      <td>1149</td>\n",
       "      <td>723</td>\n",
       "      <td>455</td>\n",
       "      <td>287</td>\n",
       "      <td>164</td>\n",
       "      <td>100</td>\n",
       "      <td>68</td>\n",
       "      <td>43</td>\n",
       "      <td>26</td>\n",
       "      <td>1</td>\n",
       "      <td>0</td>\n",
       "      <td>0</td>\n",
       "      <td>0</td>\n",
       "      <td>0</td>\n",
       "      <td>0</td>\n",
       "      <td>0</td>\n",
       "      <td>2</td>\n",
       "      <td>506</td>\n",
       "      <td>48</td>\n",
       "      <td>913</td>\n",
       "      <td>0</td>\n",
       "      <td>0</td>\n",
       "    </tr>\n",
       "    <tr>\n",
       "      <th>4</th>\n",
       "      <td>PRV51007</td>\n",
       "      <td>72</td>\n",
       "      <td>46</td>\n",
       "      <td>29</td>\n",
       "      <td>21</td>\n",
       "      <td>14</td>\n",
       "      <td>12</td>\n",
       "      <td>9</td>\n",
       "      <td>6</td>\n",
       "      <td>5</td>\n",
       "      <td>1</td>\n",
       "      <td>1</td>\n",
       "      <td>0</td>\n",
       "      <td>0</td>\n",
       "      <td>0</td>\n",
       "      <td>0</td>\n",
       "      <td>0</td>\n",
       "      <td>0</td>\n",
       "      <td>2</td>\n",
       "      <td>5</td>\n",
       "      <td>55</td>\n",
       "      <td>3</td>\n",
       "      <td>3</td>\n",
       "    </tr>\n",
       "  </tbody>\n",
       "</table>\n",
       "</div>"
      ],
      "text/plain": [
       "   Provider  ClmDiagnosisCode_1  ...  isadmitted  isdischarge\n",
       "0  PRV51001                  24  ...           5            5\n",
       "1  PRV51003                 132  ...          62           62\n",
       "2  PRV51004                 143  ...           0            0\n",
       "3  PRV51005                1149  ...           0            0\n",
       "4  PRV51007                  72  ...           3            3\n",
       "\n",
       "[5 rows x 23 columns]"
      ]
     },
     "execution_count": 72,
     "metadata": {
      "tags": []
     },
     "output_type": "execute_result"
    }
   ],
   "source": [
    "Train_sum.head()"
   ]
  },
  {
   "cell_type": "code",
   "execution_count": null,
   "metadata": {
    "colab": {
     "base_uri": "https://localhost:8080/",
     "height": 204
    },
    "executionInfo": {
     "elapsed": 1370,
     "status": "ok",
     "timestamp": 1621421469063,
     "user": {
      "displayName": "SAYAN KUNDU",
      "photoUrl": "",
      "userId": "02417134633143582297"
     },
     "user_tz": -330
    },
    "id": "67-yeK0qynaD",
    "outputId": "a31e5805-1076-46ff-c213-60f4d432a7c1"
   },
   "outputs": [
    {
     "data": {
      "text/html": [
       "<div>\n",
       "<style scoped>\n",
       "    .dataframe tbody tr th:only-of-type {\n",
       "        vertical-align: middle;\n",
       "    }\n",
       "\n",
       "    .dataframe tbody tr th {\n",
       "        vertical-align: top;\n",
       "    }\n",
       "\n",
       "    .dataframe thead th {\n",
       "        text-align: right;\n",
       "    }\n",
       "</style>\n",
       "<table border=\"1\" class=\"dataframe\">\n",
       "  <thead>\n",
       "    <tr style=\"text-align: right;\">\n",
       "      <th></th>\n",
       "      <th>Provider</th>\n",
       "      <th>BeneID</th>\n",
       "      <th>ClaimID</th>\n",
       "    </tr>\n",
       "  </thead>\n",
       "  <tbody>\n",
       "    <tr>\n",
       "      <th>0</th>\n",
       "      <td>PRV51001</td>\n",
       "      <td>24</td>\n",
       "      <td>25</td>\n",
       "    </tr>\n",
       "    <tr>\n",
       "      <th>1</th>\n",
       "      <td>PRV51003</td>\n",
       "      <td>117</td>\n",
       "      <td>132</td>\n",
       "    </tr>\n",
       "    <tr>\n",
       "      <th>2</th>\n",
       "      <td>PRV51004</td>\n",
       "      <td>138</td>\n",
       "      <td>149</td>\n",
       "    </tr>\n",
       "    <tr>\n",
       "      <th>3</th>\n",
       "      <td>PRV51005</td>\n",
       "      <td>495</td>\n",
       "      <td>1165</td>\n",
       "    </tr>\n",
       "    <tr>\n",
       "      <th>4</th>\n",
       "      <td>PRV51007</td>\n",
       "      <td>58</td>\n",
       "      <td>72</td>\n",
       "    </tr>\n",
       "  </tbody>\n",
       "</table>\n",
       "</div>"
      ],
      "text/plain": [
       "   Provider  BeneID  ClaimID\n",
       "0  PRV51001      24       25\n",
       "1  PRV51003     117      132\n",
       "2  PRV51004     138      149\n",
       "3  PRV51005     495     1165\n",
       "4  PRV51007      58       72"
      ]
     },
     "execution_count": 73,
     "metadata": {
      "tags": []
     },
     "output_type": "execute_result"
    }
   ],
   "source": [
    "Train_Count.head()"
   ]
  },
  {
   "cell_type": "code",
   "execution_count": null,
   "metadata": {
    "id": "j4C-3LqbynaE"
   },
   "outputs": [],
   "source": [
    "#https://www.kaggle.com/rahuly93/medicare-provider-fraud-detection\n",
    "Train_Data_mean = fraud_provider_ip_df.groupby(['Provider'], as_index = False)[['InscClaimAmtReimbursed', 'DeductibleAmtPaid','admitteddays',\n",
    "                                                    'ChronicCond_Alzheimer', 'ChronicCond_Heartfailure','ChronicCond_Cancer', \n",
    "                                                    'ChronicCond_KidneyDisease', 'ChronicCond_ObstrPulmonary',\n",
    "                                                   'ChronicCond_Depression','ChronicCond_Diabetes', 'ChronicCond_IschemicHeart',   \n",
    "                                                    'ChronicCond_Osteoporasis', 'ChronicCond_rheumatoidarthritis',\n",
    "                                                    'ChronicCond_stroke', 'IPAnnualReimbursementAmt','IPAnnualDeductibleAmt',\n",
    "                                                    'OPAnnualReimbursementAmt', 'OPAnnualDeductibleAmt','suffering','Age','moneygot','moneygotIP','moneygotOP',\n",
    "                                                    'claimtime','totaldiagnosiscode','totalproceduralcode','difference','uniquenumberofdoctor','NoOfMonths_PartACov', 'NoOfMonths_PartBCov']].mean()\n",
    "\n"
   ]
  },
  {
   "cell_type": "code",
   "execution_count": null,
   "metadata": {
    "colab": {
     "base_uri": "https://localhost:8080/",
     "height": 224
    },
    "executionInfo": {
     "elapsed": 1442,
     "status": "ok",
     "timestamp": 1621421473276,
     "user": {
      "displayName": "SAYAN KUNDU",
      "photoUrl": "",
      "userId": "02417134633143582297"
     },
     "user_tz": -330
    },
    "id": "OXQ53uQVynaG",
    "outputId": "343bdfcd-8c2b-4501-ccd1-099b656f59dc"
   },
   "outputs": [
    {
     "data": {
      "text/html": [
       "<div>\n",
       "<style scoped>\n",
       "    .dataframe tbody tr th:only-of-type {\n",
       "        vertical-align: middle;\n",
       "    }\n",
       "\n",
       "    .dataframe tbody tr th {\n",
       "        vertical-align: top;\n",
       "    }\n",
       "\n",
       "    .dataframe thead th {\n",
       "        text-align: right;\n",
       "    }\n",
       "</style>\n",
       "<table border=\"1\" class=\"dataframe\">\n",
       "  <thead>\n",
       "    <tr style=\"text-align: right;\">\n",
       "      <th></th>\n",
       "      <th>Provider</th>\n",
       "      <th>InscClaimAmtReimbursed</th>\n",
       "      <th>DeductibleAmtPaid</th>\n",
       "      <th>admitteddays</th>\n",
       "      <th>ChronicCond_Alzheimer</th>\n",
       "      <th>ChronicCond_Heartfailure</th>\n",
       "      <th>ChronicCond_Cancer</th>\n",
       "      <th>ChronicCond_KidneyDisease</th>\n",
       "      <th>ChronicCond_ObstrPulmonary</th>\n",
       "      <th>ChronicCond_Depression</th>\n",
       "      <th>ChronicCond_Diabetes</th>\n",
       "      <th>ChronicCond_IschemicHeart</th>\n",
       "      <th>ChronicCond_Osteoporasis</th>\n",
       "      <th>ChronicCond_rheumatoidarthritis</th>\n",
       "      <th>ChronicCond_stroke</th>\n",
       "      <th>IPAnnualReimbursementAmt</th>\n",
       "      <th>IPAnnualDeductibleAmt</th>\n",
       "      <th>OPAnnualReimbursementAmt</th>\n",
       "      <th>OPAnnualDeductibleAmt</th>\n",
       "      <th>suffering</th>\n",
       "      <th>Age</th>\n",
       "      <th>moneygot</th>\n",
       "      <th>moneygotIP</th>\n",
       "      <th>moneygotOP</th>\n",
       "      <th>claimtime</th>\n",
       "      <th>totaldiagnosiscode</th>\n",
       "      <th>totalproceduralcode</th>\n",
       "      <th>difference</th>\n",
       "      <th>uniquenumberofdoctor</th>\n",
       "      <th>NoOfMonths_PartACov</th>\n",
       "      <th>NoOfMonths_PartBCov</th>\n",
       "    </tr>\n",
       "  </thead>\n",
       "  <tbody>\n",
       "    <tr>\n",
       "      <th>0</th>\n",
       "      <td>PRV51001</td>\n",
       "      <td>4185.600000</td>\n",
       "      <td>213.600000</td>\n",
       "      <td>1.000000</td>\n",
       "      <td>0.600000</td>\n",
       "      <td>0.760000</td>\n",
       "      <td>0.200000</td>\n",
       "      <td>0.680000</td>\n",
       "      <td>0.400000</td>\n",
       "      <td>0.360000</td>\n",
       "      <td>0.840000</td>\n",
       "      <td>0.920000</td>\n",
       "      <td>0.240000</td>\n",
       "      <td>0.320000</td>\n",
       "      <td>0.240000</td>\n",
       "      <td>17606.000000</td>\n",
       "      <td>897.120000</td>\n",
       "      <td>2615.200000</td>\n",
       "      <td>463.920000</td>\n",
       "      <td>5.560000</td>\n",
       "      <td>90.280000</td>\n",
       "      <td>3972.000000</td>\n",
       "      <td>16708.880000</td>\n",
       "      <td>2151.280000</td>\n",
       "      <td>1.440000</td>\n",
       "      <td>3.200000</td>\n",
       "      <td>0.120000</td>\n",
       "      <td>3.080000</td>\n",
       "      <td>1.280000</td>\n",
       "      <td>12.000000</td>\n",
       "      <td>12.000000</td>\n",
       "    </tr>\n",
       "    <tr>\n",
       "      <th>1</th>\n",
       "      <td>PRV51003</td>\n",
       "      <td>4588.409091</td>\n",
       "      <td>502.166667</td>\n",
       "      <td>2.424242</td>\n",
       "      <td>0.424242</td>\n",
       "      <td>0.606061</td>\n",
       "      <td>0.075758</td>\n",
       "      <td>0.484848</td>\n",
       "      <td>0.310606</td>\n",
       "      <td>0.409091</td>\n",
       "      <td>0.757576</td>\n",
       "      <td>0.848485</td>\n",
       "      <td>0.250000</td>\n",
       "      <td>0.287879</td>\n",
       "      <td>0.090909</td>\n",
       "      <td>7568.181818</td>\n",
       "      <td>931.424242</td>\n",
       "      <td>2678.181818</td>\n",
       "      <td>737.121212</td>\n",
       "      <td>4.545455</td>\n",
       "      <td>81.462121</td>\n",
       "      <td>4086.242424</td>\n",
       "      <td>6636.757576</td>\n",
       "      <td>1941.060606</td>\n",
       "      <td>3.674242</td>\n",
       "      <td>5.250000</td>\n",
       "      <td>0.363636</td>\n",
       "      <td>4.886364</td>\n",
       "      <td>1.181818</td>\n",
       "      <td>11.818182</td>\n",
       "      <td>11.871212</td>\n",
       "    </tr>\n",
       "    <tr>\n",
       "      <th>2</th>\n",
       "      <td>PRV51004</td>\n",
       "      <td>350.134228</td>\n",
       "      <td>2.080537</td>\n",
       "      <td>0.000000</td>\n",
       "      <td>0.429530</td>\n",
       "      <td>0.590604</td>\n",
       "      <td>0.107383</td>\n",
       "      <td>0.335570</td>\n",
       "      <td>0.275168</td>\n",
       "      <td>0.422819</td>\n",
       "      <td>0.704698</td>\n",
       "      <td>0.724832</td>\n",
       "      <td>0.328859</td>\n",
       "      <td>0.308725</td>\n",
       "      <td>0.114094</td>\n",
       "      <td>4351.879195</td>\n",
       "      <td>434.953020</td>\n",
       "      <td>2194.899329</td>\n",
       "      <td>622.751678</td>\n",
       "      <td>4.342282</td>\n",
       "      <td>83.731544</td>\n",
       "      <td>348.053691</td>\n",
       "      <td>3916.926174</td>\n",
       "      <td>1572.147651</td>\n",
       "      <td>1.429530</td>\n",
       "      <td>2.583893</td>\n",
       "      <td>0.000000</td>\n",
       "      <td>2.583893</td>\n",
       "      <td>1.322148</td>\n",
       "      <td>11.865772</td>\n",
       "      <td>11.959732</td>\n",
       "    </tr>\n",
       "    <tr>\n",
       "      <th>3</th>\n",
       "      <td>PRV51005</td>\n",
       "      <td>241.124464</td>\n",
       "      <td>3.175966</td>\n",
       "      <td>0.000000</td>\n",
       "      <td>0.365665</td>\n",
       "      <td>0.583691</td>\n",
       "      <td>0.141631</td>\n",
       "      <td>0.435193</td>\n",
       "      <td>0.253219</td>\n",
       "      <td>0.416309</td>\n",
       "      <td>0.685837</td>\n",
       "      <td>0.768240</td>\n",
       "      <td>0.295279</td>\n",
       "      <td>0.284120</td>\n",
       "      <td>0.106438</td>\n",
       "      <td>3623.991416</td>\n",
       "      <td>379.162232</td>\n",
       "      <td>2109.733906</td>\n",
       "      <td>636.328755</td>\n",
       "      <td>4.335622</td>\n",
       "      <td>81.955365</td>\n",
       "      <td>237.948498</td>\n",
       "      <td>3244.829185</td>\n",
       "      <td>1473.405150</td>\n",
       "      <td>1.088412</td>\n",
       "      <td>2.588841</td>\n",
       "      <td>0.000000</td>\n",
       "      <td>2.588841</td>\n",
       "      <td>1.209442</td>\n",
       "      <td>11.907296</td>\n",
       "      <td>11.939914</td>\n",
       "    </tr>\n",
       "    <tr>\n",
       "      <th>4</th>\n",
       "      <td>PRV51007</td>\n",
       "      <td>468.194444</td>\n",
       "      <td>45.333333</td>\n",
       "      <td>0.222222</td>\n",
       "      <td>0.361111</td>\n",
       "      <td>0.555556</td>\n",
       "      <td>0.166667</td>\n",
       "      <td>0.305556</td>\n",
       "      <td>0.222222</td>\n",
       "      <td>0.402778</td>\n",
       "      <td>0.680556</td>\n",
       "      <td>0.708333</td>\n",
       "      <td>0.291667</td>\n",
       "      <td>0.305556</td>\n",
       "      <td>0.166667</td>\n",
       "      <td>3050.000000</td>\n",
       "      <td>445.000000</td>\n",
       "      <td>1729.722222</td>\n",
       "      <td>469.722222</td>\n",
       "      <td>4.166667</td>\n",
       "      <td>80.611111</td>\n",
       "      <td>422.861111</td>\n",
       "      <td>2605.000000</td>\n",
       "      <td>1260.000000</td>\n",
       "      <td>0.958333</td>\n",
       "      <td>2.986111</td>\n",
       "      <td>0.013889</td>\n",
       "      <td>2.972222</td>\n",
       "      <td>1.125000</td>\n",
       "      <td>11.833333</td>\n",
       "      <td>11.833333</td>\n",
       "    </tr>\n",
       "  </tbody>\n",
       "</table>\n",
       "</div>"
      ],
      "text/plain": [
       "   Provider  InscClaimAmtReimbursed  ...  NoOfMonths_PartACov  NoOfMonths_PartBCov\n",
       "0  PRV51001             4185.600000  ...            12.000000            12.000000\n",
       "1  PRV51003             4588.409091  ...            11.818182            11.871212\n",
       "2  PRV51004              350.134228  ...            11.865772            11.959732\n",
       "3  PRV51005              241.124464  ...            11.907296            11.939914\n",
       "4  PRV51007              468.194444  ...            11.833333            11.833333\n",
       "\n",
       "[5 rows x 31 columns]"
      ]
     },
     "execution_count": 75,
     "metadata": {
      "tags": []
     },
     "output_type": "execute_result"
    }
   ],
   "source": [
    "Train_Data_mean.head()"
   ]
  },
  {
   "cell_type": "code",
   "execution_count": null,
   "metadata": {
    "id": "cFgsKOh9ynaH"
   },
   "outputs": [],
   "source": [
    "#\n",
    "Train_df=pd.merge(Train_Count,Train_Data_mean,on='Provider',how='left').\\\n",
    "                merge(Train_sum,on='Provider',how='left').\\\n",
    "                 merge(target,on='Provider',how='left')"
   ]
  },
  {
   "cell_type": "code",
   "execution_count": null,
   "metadata": {
    "colab": {
     "base_uri": "https://localhost:8080/"
    },
    "executionInfo": {
     "elapsed": 1886,
     "status": "ok",
     "timestamp": 1621421476569,
     "user": {
      "displayName": "SAYAN KUNDU",
      "photoUrl": "",
      "userId": "02417134633143582297"
     },
     "user_tz": -330
    },
    "id": "vCa93el_ynaI",
    "outputId": "32b5a0f8-5994-4d5b-ae8e-86a3fbb936e7"
   },
   "outputs": [
    {
     "data": {
      "text/plain": [
       "(5410, 56)"
      ]
     },
     "execution_count": 77,
     "metadata": {
      "tags": []
     },
     "output_type": "execute_result"
    }
   ],
   "source": [
    "Train_df.shape"
   ]
  },
  {
   "cell_type": "code",
   "execution_count": null,
   "metadata": {
    "id": "ES5EjCFlLMQ3"
   },
   "outputs": [],
   "source": [
    "Train_df.to_csv('drive/MyDrive/self/Train_df.csv')"
   ]
  }
 ],
 "metadata": {
  "colab": {
   "collapsed_sections": [
    "U4tMGLHtynZT"
   ],
   "name": "Eda of  CExperiment1.ipynb",
   "provenance": [
    {
     "file_id": "1Kk7b1AgszUNG1oBQFVTjgGAJiS1m_EWw",
     "timestamp": 1621454104940
    },
    {
     "file_id": "1jCf9rnnLOtesuaCkXdk1E9v1PM8kW7Ku",
     "timestamp": 1620415861543
    }
   ]
  },
  "kernelspec": {
   "display_name": "Python 3",
   "language": "python",
   "name": "python3"
  },
  "language_info": {
   "codemirror_mode": {
    "name": "ipython",
    "version": 3
   },
   "file_extension": ".py",
   "mimetype": "text/x-python",
   "name": "python",
   "nbconvert_exporter": "python",
   "pygments_lexer": "ipython3",
   "version": "3.8.3"
  }
 },
 "nbformat": 4,
 "nbformat_minor": 0
}
